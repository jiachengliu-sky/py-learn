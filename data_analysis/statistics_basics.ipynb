{
 "cells": [
  {
   "cell_type": "code",
   "execution_count": 19,
   "id": "b344af18-f0f8-483a-859a-04dd56ef0a7c",
   "metadata": {},
   "outputs": [],
   "source": [
    "import numpy as np\n",
    "import pandas as pd\n",
    "import matplotlib.pyplot as plt\n",
    "import seaborn as sns\n",
    "import statistics"
   ]
  },
  {
   "cell_type": "code",
   "execution_count": null,
   "id": "f776ad15-22b7-49a2-bf85-ecd4f2d80517",
   "metadata": {},
   "outputs": [],
   "source": [
    "amir = pd.read_csv('../dataset/amir_deals.csv')\n",
    "happiness = pd.read_csv('../dataset/world_happiness.csv')\n",
    "food = pd.read_csv('../dataset/food_consumption.csv')"
   ]
  },
  {
   "cell_type": "markdown",
   "id": "e4286570-9713-45af-a3e6-78494453c9c2",
   "metadata": {},
   "source": [
    "**Central Limit Theorem**\n",
    "\n",
    "The distribution of a large group sample means is close to normal distribution"
   ]
  },
  {
   "cell_type": "code",
   "execution_count": 26,
   "id": "f51331af-78b5-4bf7-b119-787b8a158002",
   "metadata": {},
   "outputs": [
    {
     "data": {
      "text/plain": [
       "array([[<AxesSubplot:title={'center':'0'}>]], dtype=object)"
      ]
     },
     "execution_count": 26,
     "metadata": {},
     "output_type": "execute_result"
    },
    {
     "data": {
      "image/png": "[encoded data removed]",
      "text/plain": [
       "<Figure size 432x288 with 1 Axes>"
      ]
     },
     "metadata": {
      "needs_background": "light"
     },
     "output_type": "display_data"
    }
   ],
   "source": [
    "nums = [np.random.randint(100, size=5).mean() for i in range(1000)]\n",
    "\n",
    "np.mean(nums)\n",
    "\n",
    "pd.DataFrame(nums).hist()"
   ]
  },
  {
   "cell_type": "markdown",
   "id": "72c6f346-f027-42b0-9011-9cde2270efa9",
   "metadata": {
    "jp-MarkdownHeadingCollapsed": true,
    "tags": []
   },
   "source": [
    "**Measure of Center: Mean, Median**\n",
    "\n",
    "Mean is subject to the influence of outliers, better to use for normal distribution\n",
    "\n",
    "**Measure of Spread: Variance, MAD, Quantile**\n",
    "\n",
    "- *Variance* is the sum of `pow(diff(x - mean(x))), 2)`, then divided by n-1\n",
    "\n",
    "`np.var(series, ddof)` ddof = 1 for sample data *OR* ddof = 0 for population data\n",
    "\n",
    "- *Mean* Absolute Deviation is mean of abs(x-mean(x))\n",
    "\n",
    "Compared to Variance and Standard Deviation that penalize extreme observations by square the difference,\n",
    "MAD does not penalize such difference.\n",
    "\n",
    "- *Quantile & Interquartile*\n",
    "\n",
    "`np.quantile(series, percentile or a list of percentile)`\n",
    "\n",
    "`scipy.stats.iqr()`\n",
    "\n",
    "- *Outliers* are data points 1.5IQR below 25th percentile or above 75th percentile\n",
    "\n",
    "`low_threshold = np.quantile(series, 0.25) - 1.5 * iqr(series)`\n",
    "`high_threshold = np.quantile(series, 0.75) + 1.5 * iqr(series)`"
   ]
  },
  {
   "cell_type": "markdown",
   "id": "4e1d4970-9bb9-4919-ab1a-770eeb0a6886",
   "metadata": {
    "tags": []
   },
   "source": [
    "**Sample**\n",
    "\n",
    "`pd.DataFrame.sample(n:int, replace:bool)`\n",
    "\n",
    "**Uniform Distribution**\n",
    "\n",
    "```python\n",
    "from scipy.stats import uniform\n",
    "\n",
    "# Calculate cdf: area from left bound to right bound in a range\n",
    "uniform.cdf(x, min, max)\n",
    "\n",
    "# Generate random numbers of uniform distributoin\n",
    "uniform.rvs(min, max, size:int)\n",
    "```\n",
    "\n",
    "**Binomial Distribution**\n",
    "\n",
    "Discrete\n",
    "\n",
    "```python\n",
    "from scipy.stats import binom\n",
    "\n",
    "# Calculate cdf: probability of success <= x in n trials\n",
    "binom.pmf(x, n, p)\n",
    "\n",
    "# Calculate pmf: probability of success = x in n trials\n",
    "binom.pmf(x, n, p)\n",
    "\n",
    "# flip 1 coin with 50% chance of success for 8 times\n",
    "binom.rvs(n, p, size)\n",
    "```\n",
    "\n",
    "**Normal Distribution**\n",
    "\n",
    "Continuous\n",
    "\n",
    "```python\n",
    "from scipy.stats import norm\n",
    "\n",
    "norm.cdf(x, mean, std)\n",
    "\n",
    "# Calculate the x at some percentile\n",
    "norm.ppf(percentile, mean, std)\n",
    "\n",
    "norm.rvs(mean, std, size)\n",
    "```\n",
    "\n",
    "**Poisson Processes**\n",
    "\n",
    "Discrete\n",
    "\n",
    "Events appear to happen at a certain rate, but completely at random, therefore the shape of Poisson Distribution changes drastically when expected/average value is set to different value\n",
    "\n",
    "Describe the probability of # of events occuring over a *fixed* period of time\n",
    "\n",
    "```python\n",
    "from scipy.stats import poisson\n",
    "\n",
    "poisson.pmf(x, expected)\n",
    "\n",
    "poisson.cdf(x, expected)\n",
    "```\n",
    "\n",
    "**Exponential Distributoin**\n",
    "\n",
    "Continuous\n",
    "\n",
    "Compared to Poisson Distribution that measure # of events in a time period, Exponential Distribution measures span of time between Poisson events, therefore the expected value of Exponential Distribution is the inverse of the expected value of Poisson Distribution\n",
    "\n",
    "```python\n",
    "from scipy.stats import expon\n",
    "\n",
    "# Scale is using the inverse, therefore a measure of # events in time\n",
    "expon.cdf(x, scale)\n",
    "\n",
    "```\n",
    "\n",
    "**(Student's) t-distribution**\n",
    "\n",
    "- Similar to normal distribution, but more sperse and lower peak than normal distribution\n",
    "- Has a degree of freedom, higher the dof, closer to normal distribution\n",
    "\n",
    "**Log-normal Distribution**\n",
    "\n",
    "Variables whose logarithm is normally distributed"
   ]
  },
  {
   "cell_type": "code",
   "execution_count": 12,
   "id": "1488740d-fb54-410c-a676-75419313eaca",
   "metadata": {},
   "outputs": [
    {
     "name": "stdout",
     "output_type": "stream",
     "text": [
      "[1 0 1 0 1 1 0 1]\n",
      "[4]\n"
     ]
    }
   ],
   "source": [
    "from scipy.stats import binom\n",
    "\n",
    "print(binom.rvs(n=1, p=0.5, size = 8))\n",
    "print(binom.rvs(n=8, p=0.5, size = 1))"
   ]
  },
  {
   "cell_type": "markdown",
   "id": "e3c917cc-1b34-44a4-8190-76ca1c53c96b",
   "metadata": {},
   "source": [
    "**Central Limit Theorem**\n",
    "\n",
    "The sampling distribution of a statistic becomes closer to the normal distribution as the number oftrials increases regardless of the shape of the distribution"
   ]
  },
  {
   "cell_type": "markdown",
   "id": "214cdc9d-aaa5-4954-86e3-2358becaa61e",
   "metadata": {},
   "source": [
    "**Correlation**\n",
    "\n",
    "r = SUM 1~n (x-mean(x))(y-mean(y))/(std(x)\\*std(y))\n"
   ]
  }
 ],
 "metadata": {
  "kernelspec": {
   "display_name": "Python 3 (ipykernel)",
   "language": "python",
   "name": "python3"
  },
  "language_info": {
   "codemirror_mode": {
    "name": "ipython",
    "version": 3
   },
   "file_extension": ".py",
   "mimetype": "text/x-python",
   "name": "python",
   "nbconvert_exporter": "python",
   "pygments_lexer": "ipython3",
   "version": "3.9.12"
  }
 },
 "nbformat": 4,
 "nbformat_minor": 5
}
