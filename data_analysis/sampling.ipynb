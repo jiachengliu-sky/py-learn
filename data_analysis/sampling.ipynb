{
 "cells": [
  {
   "cell_type": "code",
   "execution_count": 106,
   "id": "b59ca48d-ff0b-4f24-8d1d-cb4009b265d2",
   "metadata": {},
   "outputs": [],
   "source": [
    "import numpy as np\n",
    "import pandas as pd\n",
    "import matplotlib.pyplot as plt"
   ]
  },
  {
   "cell_type": "markdown",
   "id": "bbba9ea5-141a-4f53-9ea9-7bf878fcd7d8",
   "metadata": {},
   "source": [
    "# Random Sampling"
   ]
  },
  {
   "cell_type": "code",
   "execution_count": 107,
   "id": "08d56296-a91e-40d7-a921-3ec8ddbdce75",
   "metadata": {},
   "outputs": [],
   "source": [
    "# pd.DataFrame.sample?"
   ]
  },
  {
   "cell_type": "code",
   "execution_count": 108,
   "id": "deeb55af-3d08-4b33-9997-f2f4549e3037",
   "metadata": {},
   "outputs": [],
   "source": [
    "# pd.Series.sample?"
   ]
  },
  {
   "cell_type": "code",
   "execution_count": 109,
   "id": "f908077b-5566-4580-96e5-ee2927deff1c",
   "metadata": {},
   "outputs": [],
   "source": [
    "uniforms = np.random.uniform(-3,3,5000)\n",
    "\n",
    "# np.ndarray does NOT have hist() built in\n",
    "# use plt.hist() or convert "
   ]
  },
  {
   "cell_type": "code",
   "execution_count": 110,
   "id": "24358b88-d7c1-4060-bd58-36b0646fa3ac",
   "metadata": {},
   "outputs": [
    {
     "data": {
      "text/plain": [
       "<AxesSubplot:>"
      ]
     },
     "execution_count": 110,
     "metadata": {},
     "output_type": "execute_result"
    },
    {
     "data": {
      "image/png": "[encoded data removed]",
      "text/plain": [
       "<Figure size 432x288 with 1 Axes>"
      ]
     },
     "metadata": {
      "needs_background": "light"
     },
     "output_type": "display_data"
    }
   ],
   "source": [
    "pd.Series(uniforms).hist()\n",
    "# pd.Series.hist?"
   ]
  },
  {
   "cell_type": "code",
   "execution_count": 123,
   "id": "1a3b63af-55b3-4bca-8207-2721efe2a37a",
   "metadata": {},
   "outputs": [
    {
     "data": {
      "text/plain": [
       "(array([476., 470., 543., 495., 492., 524., 536., 481., 477., 506.]),\n",
       " array([-2.99982143e+00, -2.39986548e+00, -1.79990952e+00, -1.19995357e+00,\n",
       "        -5.99997611e-01, -4.16557537e-05,  5.99914299e-01,  1.19987025e+00,\n",
       "         1.79982621e+00,  2.39978216e+00,  2.99973812e+00]),\n",
       " <BarContainer object of 10 artists>)"
      ]
     },
     "execution_count": 123,
     "metadata": {},
     "output_type": "execute_result"
    },
    {
     "data": {
      "image/png": "[encoded data removed]",
      "text/plain": [
       "<Figure size 432x288 with 1 Axes>"
      ]
     },
     "metadata": {
      "needs_background": "light"
     },
     "output_type": "display_data"
    }
   ],
   "source": [
    "# plt.hist?\n",
    "plt.hist(uniforms)"
   ]
  },
  {
   "cell_type": "markdown",
   "id": "3a503b4f-cd9a-4295-a254-5da13b3ba728",
   "metadata": {},
   "source": [
    "# Systematic Sampling"
   ]
  },
  {
   "cell_type": "code",
   "execution_count": 112,
   "id": "ec2a5c82-b37f-4470-a823-73a9a1f407bb",
   "metadata": {},
   "outputs": [
    {
     "data": {
      "text/plain": [
       "3592   -2.126215\n",
       "474    -0.290549\n",
       "3766   -1.668205\n",
       "2871   -1.272558\n",
       "4130    2.365936\n",
       "          ...   \n",
       "1266    2.847836\n",
       "2044    2.371033\n",
       "667    -2.260516\n",
       "2457   -1.311770\n",
       "4842    1.939132\n",
       "Length: 5000, dtype: float64"
      ]
     },
     "metadata": {},
     "output_type": "display_data"
    },
    {
     "data": {
      "text/plain": [
       "0      -2.126215\n",
       "1      -0.290549\n",
       "2      -1.668205\n",
       "3      -1.272558\n",
       "4       2.365936\n",
       "          ...   \n",
       "4995    2.847836\n",
       "4996    2.371033\n",
       "4997   -2.260516\n",
       "4998   -1.311770\n",
       "4999    1.939132\n",
       "Length: 5000, dtype: float64"
      ]
     },
     "execution_count": 112,
     "metadata": {},
     "output_type": "execute_result"
    }
   ],
   "source": [
    "uniforms_series = pd.Series(uniforms)\n",
    "\n",
    "# sample(frac:float) took a fraction(percentage) of the dataset, if set to 1, it effectively randomize the order of dataset\n",
    "shuffled = uniforms_series.sample(frac=1)\n",
    "display(shuffled)\n",
    "shuffled.reset_index(drop=True)"
   ]
  },
  {
   "cell_type": "markdown",
   "id": "0951f865-a858-4962-98a0-c9505815264d",
   "metadata": {},
   "source": [
    "# Stratifaction\n",
    "Segment/Group data before sampling"
   ]
  },
  {
   "cell_type": "code",
   "execution_count": 113,
   "id": "9c4a8807-53a0-4744-bd03-efe556cbe1a7",
   "metadata": {},
   "outputs": [
    {
     "data": {
      "text/html": [
       "<div>\n",
       "<style scoped>\n",
       "    .dataframe tbody tr th:only-of-type {\n",
       "        vertical-align: middle;\n",
       "    }\n",
       "\n",
       "    .dataframe tbody tr th {\n",
       "        vertical-align: top;\n",
       "    }\n",
       "\n",
       "    .dataframe thead th {\n",
       "        text-align: right;\n",
       "    }\n",
       "</style>\n",
       "<table border=\"1\" class=\"dataframe\">\n",
       "  <thead>\n",
       "    <tr style=\"text-align: right;\">\n",
       "      <th></th>\n",
       "      <th>index_group</th>\n",
       "      <th>norm</th>\n",
       "    </tr>\n",
       "  </thead>\n",
       "  <tbody>\n",
       "    <tr>\n",
       "      <th>0</th>\n",
       "      <td>0</td>\n",
       "      <td>-2.013357</td>\n",
       "    </tr>\n",
       "    <tr>\n",
       "      <th>1</th>\n",
       "      <td>0</td>\n",
       "      <td>0.190227</td>\n",
       "    </tr>\n",
       "    <tr>\n",
       "      <th>2</th>\n",
       "      <td>0</td>\n",
       "      <td>1.686839</td>\n",
       "    </tr>\n",
       "    <tr>\n",
       "      <th>3</th>\n",
       "      <td>0</td>\n",
       "      <td>-0.182683</td>\n",
       "    </tr>\n",
       "    <tr>\n",
       "      <th>4</th>\n",
       "      <td>0</td>\n",
       "      <td>2.772832</td>\n",
       "    </tr>\n",
       "    <tr>\n",
       "      <th>...</th>\n",
       "      <td>...</td>\n",
       "      <td>...</td>\n",
       "    </tr>\n",
       "    <tr>\n",
       "      <th>4995</th>\n",
       "      <td>4</td>\n",
       "      <td>-1.741867</td>\n",
       "    </tr>\n",
       "    <tr>\n",
       "      <th>4996</th>\n",
       "      <td>4</td>\n",
       "      <td>2.624011</td>\n",
       "    </tr>\n",
       "    <tr>\n",
       "      <th>4997</th>\n",
       "      <td>4</td>\n",
       "      <td>0.517073</td>\n",
       "    </tr>\n",
       "    <tr>\n",
       "      <th>4998</th>\n",
       "      <td>4</td>\n",
       "      <td>0.881979</td>\n",
       "    </tr>\n",
       "    <tr>\n",
       "      <th>4999</th>\n",
       "      <td>4</td>\n",
       "      <td>1.020874</td>\n",
       "    </tr>\n",
       "  </tbody>\n",
       "</table>\n",
       "<p>5000 rows × 2 columns</p>\n",
       "</div>"
      ],
      "text/plain": [
       "      index_group      norm\n",
       "0               0 -2.013357\n",
       "1               0  0.190227\n",
       "2               0  1.686839\n",
       "3               0 -0.182683\n",
       "4               0  2.772832\n",
       "...           ...       ...\n",
       "4995            4 -1.741867\n",
       "4996            4  2.624011\n",
       "4997            4  0.517073\n",
       "4998            4  0.881979\n",
       "4999            4  1.020874\n",
       "\n",
       "[5000 rows x 2 columns]"
      ]
     },
     "execution_count": 113,
     "metadata": {},
     "output_type": "execute_result"
    }
   ],
   "source": [
    "uniform_df = pd.DataFrame(uniforms_series, columns=['norm'])\n",
    "uniform_df['index_group'] = np.array([np.full(1000, i) for i in range(5)]).flatten()\n",
    "uniform_df = uniform_df[['index_group', 'norm']]\n",
    "uniform_df"
   ]
  },
  {
   "cell_type": "code",
   "execution_count": 114,
   "id": "75c43522-bced-4c3a-b33e-5c27f37ca0a5",
   "metadata": {},
   "outputs": [
    {
     "data": {
      "text/html": [
       "<div>\n",
       "<style scoped>\n",
       "    .dataframe tbody tr th:only-of-type {\n",
       "        vertical-align: middle;\n",
       "    }\n",
       "\n",
       "    .dataframe tbody tr th {\n",
       "        vertical-align: top;\n",
       "    }\n",
       "\n",
       "    .dataframe thead th {\n",
       "        text-align: right;\n",
       "    }\n",
       "</style>\n",
       "<table border=\"1\" class=\"dataframe\">\n",
       "  <thead>\n",
       "    <tr style=\"text-align: right;\">\n",
       "      <th></th>\n",
       "      <th>index_group</th>\n",
       "      <th>norm</th>\n",
       "    </tr>\n",
       "  </thead>\n",
       "  <tbody>\n",
       "    <tr>\n",
       "      <th>464</th>\n",
       "      <td>0</td>\n",
       "      <td>0.013545</td>\n",
       "    </tr>\n",
       "    <tr>\n",
       "      <th>41</th>\n",
       "      <td>0</td>\n",
       "      <td>-2.548951</td>\n",
       "    </tr>\n",
       "    <tr>\n",
       "      <th>189</th>\n",
       "      <td>0</td>\n",
       "      <td>0.991010</td>\n",
       "    </tr>\n",
       "    <tr>\n",
       "      <th>157</th>\n",
       "      <td>0</td>\n",
       "      <td>-1.882151</td>\n",
       "    </tr>\n",
       "    <tr>\n",
       "      <th>836</th>\n",
       "      <td>0</td>\n",
       "      <td>-1.476893</td>\n",
       "    </tr>\n",
       "    <tr>\n",
       "      <th>...</th>\n",
       "      <td>...</td>\n",
       "      <td>...</td>\n",
       "    </tr>\n",
       "    <tr>\n",
       "      <th>4103</th>\n",
       "      <td>4</td>\n",
       "      <td>1.966798</td>\n",
       "    </tr>\n",
       "    <tr>\n",
       "      <th>4963</th>\n",
       "      <td>4</td>\n",
       "      <td>-0.351037</td>\n",
       "    </tr>\n",
       "    <tr>\n",
       "      <th>4552</th>\n",
       "      <td>4</td>\n",
       "      <td>2.604141</td>\n",
       "    </tr>\n",
       "    <tr>\n",
       "      <th>4532</th>\n",
       "      <td>4</td>\n",
       "      <td>-0.057302</td>\n",
       "    </tr>\n",
       "    <tr>\n",
       "      <th>4968</th>\n",
       "      <td>4</td>\n",
       "      <td>-2.661328</td>\n",
       "    </tr>\n",
       "  </tbody>\n",
       "</table>\n",
       "<p>500 rows × 2 columns</p>\n",
       "</div>"
      ],
      "text/plain": [
       "      index_group      norm\n",
       "464             0  0.013545\n",
       "41              0 -2.548951\n",
       "189             0  0.991010\n",
       "157             0 -1.882151\n",
       "836             0 -1.476893\n",
       "...           ...       ...\n",
       "4103            4  1.966798\n",
       "4963            4 -0.351037\n",
       "4552            4  2.604141\n",
       "4532            4 -0.057302\n",
       "4968            4 -2.661328\n",
       "\n",
       "[500 rows x 2 columns]"
      ]
     },
     "execution_count": 114,
     "metadata": {},
     "output_type": "execute_result"
    }
   ],
   "source": [
    "# Sampling 10% data from each group\n",
    "uniform_df.groupby('index_group').sample(frac=0.1)"
   ]
  },
  {
   "cell_type": "code",
   "execution_count": 115,
   "id": "b2e16942-90ad-461d-827c-0d87ca004e9a",
   "metadata": {},
   "outputs": [
    {
     "data": {
      "text/html": [
       "<div>\n",
       "<style scoped>\n",
       "    .dataframe tbody tr th:only-of-type {\n",
       "        vertical-align: middle;\n",
       "    }\n",
       "\n",
       "    .dataframe tbody tr th {\n",
       "        vertical-align: top;\n",
       "    }\n",
       "\n",
       "    .dataframe thead th {\n",
       "        text-align: right;\n",
       "    }\n",
       "</style>\n",
       "<table border=\"1\" class=\"dataframe\">\n",
       "  <thead>\n",
       "    <tr style=\"text-align: right;\">\n",
       "      <th></th>\n",
       "      <th>index_group</th>\n",
       "      <th>norm</th>\n",
       "    </tr>\n",
       "  </thead>\n",
       "  <tbody>\n",
       "    <tr>\n",
       "      <th>239</th>\n",
       "      <td>0</td>\n",
       "      <td>2.139845</td>\n",
       "    </tr>\n",
       "    <tr>\n",
       "      <th>789</th>\n",
       "      <td>0</td>\n",
       "      <td>1.608707</td>\n",
       "    </tr>\n",
       "    <tr>\n",
       "      <th>219</th>\n",
       "      <td>0</td>\n",
       "      <td>-0.843642</td>\n",
       "    </tr>\n",
       "    <tr>\n",
       "      <th>327</th>\n",
       "      <td>0</td>\n",
       "      <td>-1.751936</td>\n",
       "    </tr>\n",
       "    <tr>\n",
       "      <th>192</th>\n",
       "      <td>0</td>\n",
       "      <td>-0.085516</td>\n",
       "    </tr>\n",
       "    <tr>\n",
       "      <th>...</th>\n",
       "      <td>...</td>\n",
       "      <td>...</td>\n",
       "    </tr>\n",
       "    <tr>\n",
       "      <th>4709</th>\n",
       "      <td>4</td>\n",
       "      <td>1.633890</td>\n",
       "    </tr>\n",
       "    <tr>\n",
       "      <th>4391</th>\n",
       "      <td>4</td>\n",
       "      <td>2.799189</td>\n",
       "    </tr>\n",
       "    <tr>\n",
       "      <th>4814</th>\n",
       "      <td>4</td>\n",
       "      <td>-2.715974</td>\n",
       "    </tr>\n",
       "    <tr>\n",
       "      <th>4672</th>\n",
       "      <td>4</td>\n",
       "      <td>2.664932</td>\n",
       "    </tr>\n",
       "    <tr>\n",
       "      <th>4652</th>\n",
       "      <td>4</td>\n",
       "      <td>0.046291</td>\n",
       "    </tr>\n",
       "  </tbody>\n",
       "</table>\n",
       "<p>100 rows × 2 columns</p>\n",
       "</div>"
      ],
      "text/plain": [
       "      index_group      norm\n",
       "239             0  2.139845\n",
       "789             0  1.608707\n",
       "219             0 -0.843642\n",
       "327             0 -1.751936\n",
       "192             0 -0.085516\n",
       "...           ...       ...\n",
       "4709            4  1.633890\n",
       "4391            4  2.799189\n",
       "4814            4 -2.715974\n",
       "4672            4  2.664932\n",
       "4652            4  0.046291\n",
       "\n",
       "[100 rows x 2 columns]"
      ]
     },
     "execution_count": 115,
     "metadata": {},
     "output_type": "execute_result"
    }
   ],
   "source": [
    "# Sampling 20 datapoints from each group\n",
    "uniform_df.groupby('index_group').sample(n=20)"
   ]
  },
  {
   "cell_type": "code",
   "execution_count": 116,
   "id": "4e5d5584-0134-4246-b8eb-b64fbcb89570",
   "metadata": {},
   "outputs": [
    {
     "data": {
      "text/html": [
       "<div>\n",
       "<style scoped>\n",
       "    .dataframe tbody tr th:only-of-type {\n",
       "        vertical-align: middle;\n",
       "    }\n",
       "\n",
       "    .dataframe tbody tr th {\n",
       "        vertical-align: top;\n",
       "    }\n",
       "\n",
       "    .dataframe thead th {\n",
       "        text-align: right;\n",
       "    }\n",
       "</style>\n",
       "<table border=\"1\" class=\"dataframe\">\n",
       "  <thead>\n",
       "    <tr style=\"text-align: right;\">\n",
       "      <th></th>\n",
       "      <th>index_group</th>\n",
       "      <th>norm</th>\n",
       "      <th>weight</th>\n",
       "    </tr>\n",
       "  </thead>\n",
       "  <tbody>\n",
       "    <tr>\n",
       "      <th>0</th>\n",
       "      <td>0</td>\n",
       "      <td>-2.013357</td>\n",
       "      <td>2</td>\n",
       "    </tr>\n",
       "    <tr>\n",
       "      <th>1000</th>\n",
       "      <td>1</td>\n",
       "      <td>-2.277347</td>\n",
       "      <td>1</td>\n",
       "    </tr>\n",
       "    <tr>\n",
       "      <th>2000</th>\n",
       "      <td>2</td>\n",
       "      <td>-0.812200</td>\n",
       "      <td>2</td>\n",
       "    </tr>\n",
       "    <tr>\n",
       "      <th>3000</th>\n",
       "      <td>3</td>\n",
       "      <td>0.652076</td>\n",
       "      <td>2</td>\n",
       "    </tr>\n",
       "    <tr>\n",
       "      <th>4000</th>\n",
       "      <td>4</td>\n",
       "      <td>1.816857</td>\n",
       "      <td>2</td>\n",
       "    </tr>\n",
       "  </tbody>\n",
       "</table>\n",
       "</div>"
      ],
      "text/plain": [
       "      index_group      norm  weight\n",
       "0               0 -2.013357       2\n",
       "1000            1 -2.277347       1\n",
       "2000            2 -0.812200       2\n",
       "3000            3  0.652076       2\n",
       "4000            4  1.816857       2"
      ]
     },
     "metadata": {},
     "output_type": "display_data"
    },
    {
     "data": {
      "text/plain": [
       "index_group\n",
       "0    114\n",
       "3    113\n",
       "2    104\n",
       "4    104\n",
       "1     65\n",
       "dtype: int64"
      ]
     },
     "execution_count": 116,
     "metadata": {},
     "output_type": "execute_result"
    }
   ],
   "source": [
    "# Weighted random sampling\n",
    "\n",
    "# If index_group==1, assign weight to 1, otherwise 2\n",
    "uniform_df['weight'] = np.where(uniform_df['index_group']==1, 1, 2)\n",
    "display(uniform_df[::1000])\n",
    "\n",
    "uniform_df.sample(frac=0.1, weights='weight').value_counts('index_group')"
   ]
  },
  {
   "cell_type": "markdown",
   "id": "e6fc0d42-bc16-4adb-9634-2abb47aed6b0",
   "metadata": {},
   "source": [
    "# Cluster Sampling\n",
    "Randomly pick a few groups/segment and then random sampling"
   ]
  },
  {
   "cell_type": "code",
   "execution_count": 117,
   "id": "4a58a561-304d-4bd2-93f0-89cb0369de31",
   "metadata": {},
   "outputs": [
    {
     "data": {
      "text/plain": [
       "[0, 1]"
      ]
     },
     "metadata": {},
     "output_type": "display_data"
    },
    {
     "data": {
      "text/html": [
       "<div>\n",
       "<style scoped>\n",
       "    .dataframe tbody tr th:only-of-type {\n",
       "        vertical-align: middle;\n",
       "    }\n",
       "\n",
       "    .dataframe tbody tr th {\n",
       "        vertical-align: top;\n",
       "    }\n",
       "\n",
       "    .dataframe thead th {\n",
       "        text-align: right;\n",
       "    }\n",
       "</style>\n",
       "<table border=\"1\" class=\"dataframe\">\n",
       "  <thead>\n",
       "    <tr style=\"text-align: right;\">\n",
       "      <th></th>\n",
       "      <th>index_group</th>\n",
       "      <th>norm</th>\n",
       "      <th>weight</th>\n",
       "    </tr>\n",
       "  </thead>\n",
       "  <tbody>\n",
       "    <tr>\n",
       "      <th>570</th>\n",
       "      <td>0</td>\n",
       "      <td>1.467053</td>\n",
       "      <td>2</td>\n",
       "    </tr>\n",
       "    <tr>\n",
       "      <th>474</th>\n",
       "      <td>0</td>\n",
       "      <td>-0.290549</td>\n",
       "      <td>2</td>\n",
       "    </tr>\n",
       "    <tr>\n",
       "      <th>146</th>\n",
       "      <td>0</td>\n",
       "      <td>-0.057011</td>\n",
       "      <td>2</td>\n",
       "    </tr>\n",
       "    <tr>\n",
       "      <th>27</th>\n",
       "      <td>0</td>\n",
       "      <td>1.085558</td>\n",
       "      <td>2</td>\n",
       "    </tr>\n",
       "    <tr>\n",
       "      <th>794</th>\n",
       "      <td>0</td>\n",
       "      <td>-1.934631</td>\n",
       "      <td>2</td>\n",
       "    </tr>\n",
       "    <tr>\n",
       "      <th>724</th>\n",
       "      <td>0</td>\n",
       "      <td>-1.679613</td>\n",
       "      <td>2</td>\n",
       "    </tr>\n",
       "    <tr>\n",
       "      <th>855</th>\n",
       "      <td>0</td>\n",
       "      <td>0.571626</td>\n",
       "      <td>2</td>\n",
       "    </tr>\n",
       "    <tr>\n",
       "      <th>1</th>\n",
       "      <td>0</td>\n",
       "      <td>0.190227</td>\n",
       "      <td>2</td>\n",
       "    </tr>\n",
       "    <tr>\n",
       "      <th>863</th>\n",
       "      <td>0</td>\n",
       "      <td>1.323101</td>\n",
       "      <td>2</td>\n",
       "    </tr>\n",
       "    <tr>\n",
       "      <th>421</th>\n",
       "      <td>0</td>\n",
       "      <td>0.678654</td>\n",
       "      <td>2</td>\n",
       "    </tr>\n",
       "    <tr>\n",
       "      <th>1415</th>\n",
       "      <td>1</td>\n",
       "      <td>0.628901</td>\n",
       "      <td>1</td>\n",
       "    </tr>\n",
       "    <tr>\n",
       "      <th>1713</th>\n",
       "      <td>1</td>\n",
       "      <td>2.704244</td>\n",
       "      <td>1</td>\n",
       "    </tr>\n",
       "    <tr>\n",
       "      <th>1343</th>\n",
       "      <td>1</td>\n",
       "      <td>-2.872955</td>\n",
       "      <td>1</td>\n",
       "    </tr>\n",
       "    <tr>\n",
       "      <th>1494</th>\n",
       "      <td>1</td>\n",
       "      <td>1.085267</td>\n",
       "      <td>1</td>\n",
       "    </tr>\n",
       "    <tr>\n",
       "      <th>1250</th>\n",
       "      <td>1</td>\n",
       "      <td>1.016233</td>\n",
       "      <td>1</td>\n",
       "    </tr>\n",
       "    <tr>\n",
       "      <th>1921</th>\n",
       "      <td>1</td>\n",
       "      <td>-1.910273</td>\n",
       "      <td>1</td>\n",
       "    </tr>\n",
       "    <tr>\n",
       "      <th>1442</th>\n",
       "      <td>1</td>\n",
       "      <td>0.029651</td>\n",
       "      <td>1</td>\n",
       "    </tr>\n",
       "    <tr>\n",
       "      <th>1615</th>\n",
       "      <td>1</td>\n",
       "      <td>2.067040</td>\n",
       "      <td>1</td>\n",
       "    </tr>\n",
       "    <tr>\n",
       "      <th>1874</th>\n",
       "      <td>1</td>\n",
       "      <td>2.401683</td>\n",
       "      <td>1</td>\n",
       "    </tr>\n",
       "    <tr>\n",
       "      <th>1537</th>\n",
       "      <td>1</td>\n",
       "      <td>1.437059</td>\n",
       "      <td>1</td>\n",
       "    </tr>\n",
       "  </tbody>\n",
       "</table>\n",
       "</div>"
      ],
      "text/plain": [
       "      index_group      norm  weight\n",
       "570             0  1.467053       2\n",
       "474             0 -0.290549       2\n",
       "146             0 -0.057011       2\n",
       "27              0  1.085558       2\n",
       "794             0 -1.934631       2\n",
       "724             0 -1.679613       2\n",
       "855             0  0.571626       2\n",
       "1               0  0.190227       2\n",
       "863             0  1.323101       2\n",
       "421             0  0.678654       2\n",
       "1415            1  0.628901       1\n",
       "1713            1  2.704244       1\n",
       "1343            1 -2.872955       1\n",
       "1494            1  1.085267       1\n",
       "1250            1  1.016233       1\n",
       "1921            1 -1.910273       1\n",
       "1442            1  0.029651       1\n",
       "1615            1  2.067040       1\n",
       "1874            1  2.401683       1\n",
       "1537            1  1.437059       1"
      ]
     },
     "execution_count": 117,
     "metadata": {},
     "output_type": "execute_result"
    }
   ],
   "source": [
    "import random\n",
    "\n",
    "# Randomly select subgroups\n",
    "random_groups = random.sample(list(uniform_df['index_group'].unique()), k=2)\n",
    "display(random_groups)\n",
    "\n",
    "# Filter subgroups\n",
    "uniform_filtered = uniform_df[uniform_df['index_group'].isin(random_groups)]\n",
    "uniform_filtered['index_group'].unique()\n",
    "\n",
    "# Random sampling from filtered subgroups\n",
    "clustered_sample = uniform_filtered.groupby('index_group').sample(n=10)\n",
    "clustered_sample"
   ]
  },
  {
   "cell_type": "markdown",
   "id": "1697fc9e-4a2a-4148-b6c0-aeade421879d",
   "metadata": {},
   "source": [
    "# Bootstrapping\n",
    "\n",
    "Use a sample to build up a theoretical population"
   ]
  },
  {
   "cell_type": "code",
   "execution_count": 125,
   "id": "52f94ab2-e6b4-454c-bd2a-1280a9554695",
   "metadata": {},
   "outputs": [
    {
     "data": {
      "text/plain": [
       "(array([ 12.,  44., 106., 166., 194., 205., 166.,  72.,  29.,   6.]),\n",
       " array([-0.05786277, -0.04364448, -0.0294262 , -0.01520791, -0.00098962,\n",
       "         0.01322867,  0.02744696,  0.04166525,  0.05588354,  0.07010183,\n",
       "         0.08432012]),\n",
       " <BarContainer object of 10 artists>)"
      ]
     },
     "execution_count": 125,
     "metadata": {},
     "output_type": "execute_result"
    },
    {
     "data": {
      "image/png": "[encoded data removed]",
      "text/plain": [
       "<Figure size 432x288 with 1 Axes>"
      ]
     },
     "metadata": {
      "needs_background": "light"
     },
     "output_type": "display_data"
    }
   ],
   "source": [
    "means = []\n",
    "for i in range(1000):\n",
    "    means.append(uniform_df.sample(frac=1, replace=True)['norm'].mean())\n",
    "means[:5]\n",
    "\n",
    "plt.hist(means)"
   ]
  },
  {
   "cell_type": "markdown",
   "id": "b39451b2-8a3e-4edf-9f8b-440db8b95289",
   "metadata": {},
   "source": [
    "Standard Error is the standard deviation of the statistics of interest with `ddof=1`\n",
    "Standard Error * sqrt(sample_size) estimates the population standard deviation"
   ]
  },
  {
   "cell_type": "markdown",
   "id": "cac0b5ac-bf39-4174-ab81-aa17947a7abf",
   "metadata": {},
   "source": [
    "# Confidence Interval"
   ]
  },
  {
   "cell_type": "code",
   "execution_count": 127,
   "id": "a87f4513-18ed-455b-87c9-3dc07e99a897",
   "metadata": {},
   "outputs": [
    {
     "name": "stdout",
     "output_type": "stream",
     "text": [
      "-0.037179136237392975 0.06140371084425521\n"
     ]
    }
   ],
   "source": [
    "# Quantile Method:\n",
    "\n",
    "lower = np.quantile(means, 0.025)\n",
    "higher = np.quantile(means, 0.975)\n",
    "print(lower, higher)"
   ]
  },
  {
   "cell_type": "code",
   "execution_count": 128,
   "id": "2db32d3a-d417-47e4-9c0c-a32964ce6bcc",
   "metadata": {},
   "outputs": [
    {
     "name": "stdout",
     "output_type": "stream",
     "text": [
      "-0.038218963137213416 0.06048944179319413\n"
     ]
    }
   ],
   "source": [
    "# CDF\n",
    "from scipy.stats import norm\n",
    "lower = norm.ppf(0.025, np.mean(means), np.std(means))\n",
    "higher = norm.ppf(0.975, np.mean(means), np.std(means))\n",
    "\n",
    "print(lower, higher)"
   ]
  },
  {
   "cell_type": "code",
   "execution_count": 131,
   "id": "b843784b-461b-4d70-8e44-5e2e9461c1d2",
   "metadata": {},
   "outputs": [
    {
     "data": {
      "text/plain": [
       "\u001b[0;31mSignature:\u001b[0m \u001b[0mnorm\u001b[0m\u001b[0;34m.\u001b[0m\u001b[0mppf\u001b[0m\u001b[0;34m(\u001b[0m\u001b[0mq\u001b[0m\u001b[0;34m,\u001b[0m \u001b[0;34m*\u001b[0m\u001b[0margs\u001b[0m\u001b[0;34m,\u001b[0m \u001b[0;34m**\u001b[0m\u001b[0mkwds\u001b[0m\u001b[0;34m)\u001b[0m\u001b[0;34m\u001b[0m\u001b[0;34m\u001b[0m\u001b[0m\n",
       "\u001b[0;31mDocstring:\u001b[0m\n",
       "Percent point function (inverse of `cdf`) at q of the given RV.\n",
       "\n",
       "Parameters\n",
       "----------\n",
       "q : array_like\n",
       "    lower tail probability\n",
       "arg1, arg2, arg3,... : array_like\n",
       "    The shape parameter(s) for the distribution (see docstring of the\n",
       "    instance object for more information)\n",
       "loc : array_like, optional\n",
       "    location parameter (default=0)\n",
       "scale : array_like, optional\n",
       "    scale parameter (default=1)\n",
       "\n",
       "Returns\n",
       "-------\n",
       "x : array_like\n",
       "    quantile corresponding to the lower tail probability q.\n",
       "\u001b[0;31mFile:\u001b[0m      /Applications/anaconda3/lib/python3.9/site-packages/scipy/stats/_distn_infrastructure.py\n",
       "\u001b[0;31mType:\u001b[0m      method\n"
      ]
     },
     "metadata": {},
     "output_type": "display_data"
    }
   ],
   "source": [
    "norm.ppf?"
   ]
  }
 ],
 "metadata": {
  "kernelspec": {
   "display_name": "Python 3 (ipykernel)",
   "language": "python",
   "name": "python3"
  },
  "language_info": {
   "codemirror_mode": {
    "name": "ipython",
    "version": 3
   },
   "file_extension": ".py",
   "mimetype": "text/x-python",
   "name": "python",
   "nbconvert_exporter": "python",
   "pygments_lexer": "ipython3",
   "version": "3.9.12"
  }
 },
 "nbformat": 4,
 "nbformat_minor": 5
}
