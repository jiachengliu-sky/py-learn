{
 "cells": [
  {
   "cell_type": "code",
   "execution_count": 3,
   "id": "b344af18-f0f8-483a-859a-04dd56ef0a7c",
   "metadata": {},
   "outputs": [],
   "source": [
    "import numpy as np\n",
    "import pandas as pd\n",
    "import statistics"
   ]
  },
  {
   "cell_type": "code",
   "execution_count": null,
   "id": "f776ad15-22b7-49a2-bf85-ecd4f2d80517",
   "metadata": {},
   "outputs": [],
   "source": [
    "amir = pd.read_csv('../dataset/amir_deals.csv')\n",
    "happiness = pd.read_csv('../dataset/world_happiness.csv')\n",
    "food = pd.read_csv('../dataset/food_consumption.csv')"
   ]
  },
  {
   "cell_type": "markdown",
   "id": "72c6f346-f027-42b0-9011-9cde2270efa9",
   "metadata": {
    "jp-MarkdownHeadingCollapsed": true,
    "tags": []
   },
   "source": [
    "**Measure of Center: Mean, Median**\n",
    "\n",
    "Mean is subject to the influence of outliers, better to use for normal distribution\n",
    "\n",
    "**Measure of Spread: Variance, MAD, Quantile**\n",
    "\n",
    "- Variance is the sum of `pow(diff(x - mean(x))), 2)`, then divided by n-1\n",
    "\n",
    "`np.var(series, ddof)` ddof = 1 for sample data *OR* ddof = 0 for population data\n",
    "\n",
    "- Mean Absolute Deviation is mean of abs(x-mean(x))\n",
    "\n",
    "Compared to Variance and Standard Deviation that penalize extreme observations by square the difference,\n",
    "MAD does not penalize such difference.\n",
    "\n",
    "- Quantile & Interquartile\n",
    "\n",
    "`np.quantile(series, percentile or a list of percentile)`\n",
    "\n",
    "`scipy.stats.iqr()`\n",
    "\n",
    "- Outliers are data points 1.5IQR below 25th percentile or above 75th percentile\n",
    "\n",
    "`low_threshold = np.quantile(series, 0.25) - 1.5 * iqr(series)`\n",
    "`high_threshold = np.quantile(series, 0.75) + 1.5 * iqr(series)`"
   ]
  },
  {
   "cell_type": "markdown",
   "id": "4e1d4970-9bb9-4919-ab1a-770eeb0a6886",
   "metadata": {
    "tags": []
   },
   "source": [
    "**Sample**\n",
    "\n",
    "pd.DataFrame.sample(n:int, replace:bool)\n",
    "\n"
   ]
  }
 ],
 "metadata": {
  "kernelspec": {
   "display_name": "Python 3 (ipykernel)",
   "language": "python",
   "name": "python3"
  },
  "language_info": {
   "codemirror_mode": {
    "name": "ipython",
    "version": 3
   },
   "file_extension": ".py",
   "mimetype": "text/x-python",
   "name": "python",
   "nbconvert_exporter": "python",
   "pygments_lexer": "ipython3",
   "version": "3.9.12"
  }
 },
 "nbformat": 4,
 "nbformat_minor": 5
}
