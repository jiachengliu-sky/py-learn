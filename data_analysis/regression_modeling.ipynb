{
 "cells": [
  {
   "cell_type": "markdown",
   "id": "9becfe32-2bfe-466d-a090-6b6663bacece",
   "metadata": {},
   "source": [
    "*Terminology*\n",
    "- Response Variable: Variable value depends on other variables\n",
    "- Explanatory Variable: Variable value influence other variables\n",
    "\n",
    "**Linear Regression**\n",
    "The response variable is numeric\n",
    "\n",
    "Visualization:\n",
    "- Numerical: sns.scatterplot(), sns.regplot()\n",
    "- Categorical: sns.displot()\n",
    "\n",
    "**Logistic Regression**\n",
    "The response variable is logical\n",
    "\n"
   ]
  },
  {
   "cell_type": "markdown",
   "id": "3131c58d-e629-4595-9851-c0d5256d8d5a",
   "metadata": {},
   "source": [
    "# Linear Regression\n",
    "\n",
    "`from statsmodels.formula.api import ols`\n",
    "\n",
    "^ ols represents ordinary least squares\n",
    "\n",
    "## Fit Model\n",
    "`relation = ols('response_variable ~ explanatory_variable', data).fit()`\n",
    "\n",
    "### Model Parameters\n",
    "`.params` to see intercept and slope\n",
    "`fittedvalues` to see predicted values using current value of explanatory_variables\n",
    "`.resid` to see actual response - predicted value\n",
    "`.rsquared`\n",
    "\n",
    "### Model Methods\n",
    "`.summary()`\n",
    "\n",
    "Better to use `response_variables ~ explanatory_variable + 0, data` for categorical value to detach from intercept\n",
    "\n",
    "## Predict\n",
    "`relation.predict(value_df)`\n",
    "\n",
    "Following is better: add a new column to DataFrame:\n",
    "\n",
    "`value_df.assign('col_name' = relation.predict(value_list))`\n",
    "\n",
    "## Evaluate Model\n",
    "1. Coefficient of Determination: By what percentage, the Explanatory Variable explains Response Variable\n",
    "    = Squared Correlation\n",
    "    - r-squared: one-to-to relationship\n",
    "    - R-squared: one-to-many relationship\n",
    "    \n",
    "    Ranges between 0 and 1:\n",
    "        - 1 means perfect fit \n",
    "        - 0 means worst possible fit\n",
    "    \n",
    "2. Residual Standard Error: Average difference between predicted value and observed value\n",
    "    - Degree of Freedom = Number of Observation - Number of Model Coefficients\n",
    "\n",
    "## Outliers\n",
    "`.get_incluence().summary_frame()`"
   ]
  },
  {
   "cell_type": "markdown",
   "id": "4f95c0b8-dd0d-46a3-b4e8-9871fc6dd3f9",
   "metadata": {},
   "source": [
    "# Logistic Regression\n",
    "\n",
    "`from statsmodels.formula.api import logit`\n",
    "\n"
   ]
  }
 ],
 "metadata": {
  "kernelspec": {
   "display_name": "Python 3 (ipykernel)",
   "language": "python",
   "name": "python3"
  },
  "language_info": {
   "codemirror_mode": {
    "name": "ipython",
    "version": 3
   },
   "file_extension": ".py",
   "mimetype": "text/x-python",
   "name": "python",
   "nbconvert_exporter": "python",
   "pygments_lexer": "ipython3",
   "version": "3.9.12"
  }
 },
 "nbformat": 4,
 "nbformat_minor": 5
}
