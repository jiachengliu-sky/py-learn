{
 "cells": [
  {
   "cell_type": "markdown",
   "id": "6406587b-07d2-4ce3-bdff-7bc06c4c20b6",
   "metadata": {},
   "source": [
    "# Pandas DataFrame Basics\n",
    "\n",
    "## Macros of DataFrame\n",
    "Once a `pd.DataFrame` (df) object is created, use following commands to examine the basic structure, duplicated rows, null rows of the df\n",
    "\n",
    "- `.describe()` \n",
    "- `.info()` \n",
    "- `.shape` \n",
    "- `columns` \n",
    "- `head()`\n",
    "- `duplicated`\n",
    "- `df[df.isna().any(axis=1)]`\n",
    "\n",
    "## Micros of DataFrame\n",
    "Check each column and their unique values, value counts, value trends\n",
    "\n",
    "- `.unique()`\n",
    "- `.value_counts()`\n",
    "\n",
    "Filter to see out-of-order rows\n",
    "`&` for AND, `|` for OR\n",
    "\n",
    "- `.loc(criteria)`\n",
    "- `df[criteria]`\n",
    "- `df.query()`\n",
    "- `.filter()`: Only applies to labels not value\n",
    "\n",
    "`~boolean_series` returns an inverse of `boolean_series`\n",
    "\n",
    "## Manipulation\n",
    "- `.replace()`: Works for both `pd.Series` and `pd.DataFrame`\n",
    "- `.fillna()`\n",
    "- `.dropna()`\n",
    "\n",
    "## Visualization\n",
    "`import matplotlib.pyplot as plt`\n",
    "`import seaborn as sns`\n",
    "\n",
    "## Explore correlations\n",
    "\n",
    "## Explore multivariate relationships"
   ]
  }
 ],
 "metadata": {
  "kernelspec": {
   "display_name": "Python 3 (ipykernel)",
   "language": "python",
   "name": "python3"
  },
  "language_info": {
   "codemirror_mode": {
    "name": "ipython",
    "version": 3
   },
   "file_extension": ".py",
   "mimetype": "text/x-python",
   "name": "python",
   "nbconvert_exporter": "python",
   "pygments_lexer": "ipython3",
   "version": "3.9.12"
  }
 },
 "nbformat": 4,
 "nbformat_minor": 5
}
