{
 "cells": [
  {
   "cell_type": "markdown",
   "id": "9e9d1483",
   "metadata": {},
   "source": [
    "# Initialize"
   ]
  },
  {
   "cell_type": "code",
   "execution_count": 1,
   "id": "f0680928",
   "metadata": {},
   "outputs": [],
   "source": [
    "import seaborn as sns\n",
    "import matplotlib.pyplot as plt\n",
    "import numpy\n",
    "import pandas as pd"
   ]
  },
  {
   "cell_type": "markdown",
   "id": "e0dc239d",
   "metadata": {},
   "source": [
    "## AxesSubplot\n",
    "Single plot\n"
   ]
  },
  {
   "cell_type": "markdown",
   "id": "e43440c6",
   "metadata": {},
   "source": [
    "### AxesSubplot - Scatter plot\n"
   ]
  },
  {
   "cell_type": "code",
   "execution_count": 2,
   "id": "2ee4b495",
   "metadata": {},
   "outputs": [],
   "source": [
    "# sns.scatterplot(x=, y=, data=)\n",
    "# plt.show()\n"
   ]
  },
  {
   "cell_type": "markdown",
   "id": "968aa1a1",
   "metadata": {},
   "source": [
    "### AxesSubplot - Count plot (bar plot)\n"
   ]
  },
  {
   "cell_type": "code",
   "execution_count": 3,
   "id": "e520548f",
   "metadata": {},
   "outputs": [],
   "source": [
    "# sns.countplot(y=, data=)\n",
    "# plt.show()\n"
   ]
  },
  {
   "cell_type": "markdown",
   "id": "89c8ec17",
   "metadata": {},
   "source": [
    "## FacetGrid\n",
    "Multiple plots"
   ]
  },
  {
   "cell_type": "markdown",
   "id": "854c4d04",
   "metadata": {},
   "source": [
    "### FacetGrid - Relational plot\n",
    "Separate plots based on 3rd, 4th, ... parameters"
   ]
  },
  {
   "cell_type": "markdown",
   "id": "0112056e",
   "metadata": {},
   "source": [
    "#### FacetGrid - Relational plot - Scatter plot\n"
   ]
  },
  {
   "cell_type": "code",
   "execution_count": null,
   "id": "fda2cedd",
   "metadata": {},
   "outputs": [],
   "source": [
    "# sns.relplot(x,y,data,kind=\"scatter\", col, row)\n",
    "\n",
    "# sns.relplot(x,y,data,kind, col, col_wrap, col_order)\n",
    "\n",
    "# plt.show()"
   ]
  },
  {
   "cell_type": "markdown",
   "id": "0ba1dedc",
   "metadata": {},
   "source": [
    "#### FacetGrid - Relational plot - Line plot\n"
   ]
  },
  {
   "cell_type": "code",
   "execution_count": 8,
   "id": "6d1a188a",
   "metadata": {},
   "outputs": [],
   "source": [
    "# sns.relplot(x,y,data,kind=\"line\", ci=[\"sd\", None], dash=True, markers=True)\n",
    "\n",
    "# plt.show()"
   ]
  },
  {
   "cell_type": "markdown",
   "id": "0376a76d",
   "metadata": {},
   "source": [
    "### FacetGrid - Categorical plot"
   ]
  },
  {
   "cell_type": "markdown",
   "id": "6e1a4240",
   "metadata": {},
   "source": [
    "#### FacetGrid - Categorical plot - Count plot"
   ]
  },
  {
   "cell_type": "code",
   "execution_count": null,
   "id": "a6a40909",
   "metadata": {},
   "outputs": [],
   "source": [
    "# sns.catplot(x,y,data,kind=\"count\", order=[])\n",
    "\n",
    "# plt.show()"
   ]
  },
  {
   "cell_type": "markdown",
   "id": "2b3d1ee8",
   "metadata": {},
   "source": [
    "#### FacetGrid - Categorical plot - Bar plot\n",
    "Show 95% confidence interval"
   ]
  },
  {
   "cell_type": "code",
   "execution_count": null,
   "id": "1ee8ec76",
   "metadata": {},
   "outputs": [],
   "source": [
    "# sns.catplot(x,y,data,kind=\"bar\", ci=)\n",
    "\n",
    "# plt.show()"
   ]
  },
  {
   "cell_type": "markdown",
   "id": "df3f4541",
   "metadata": {},
   "source": [
    "#### FacetGrid - Categorical plot - Box plot\n"
   ]
  },
  {
   "cell_type": "code",
   "execution_count": null,
   "id": "2d0a6913",
   "metadata": {},
   "outputs": [],
   "source": [
    "\"\"\"\n",
    "sym=\"\" omits outliers\n",
    "whis changes whisker range based on a factor of interquartile(25th,75th)\n",
    "  whis = either an int or a list[lower, upper]\n",
    "\"\"\"\n",
    "\n",
    "# sns.catplot(x,y,data, kind=\"box\", sym=, whis=)"
   ]
  },
  {
   "cell_type": "markdown",
   "id": "276a8dc8",
   "metadata": {},
   "source": [
    "#### FacetGrid - Categorical plot - Point plot\n",
    "Points show the mean of quantitative variable. However, can change to median using `estimator=np.median`\n",
    "\n",
    "Verticle line show 95% confidence interval. Use `capsize=` to add edges to CI. Or use `ci=None` to omit CI\n",
    "\n",
    "Use `join=False` to remove line that connects datapoints"
   ]
  },
  {
   "cell_type": "code",
   "execution_count": null,
   "id": "75057488",
   "metadata": {},
   "outputs": [],
   "source": [
    "# sns.catplot(x,y,data,kind=\"point\", estimator=np.median, join=False, capsize=0.2)"
   ]
  },
  {
   "cell_type": "markdown",
   "id": "719068e3",
   "metadata": {},
   "source": [
    "## Styles\n"
   ]
  },
  {
   "cell_type": "markdown",
   "id": "c7445fda",
   "metadata": {},
   "source": [
    "### Title"
   ]
  },
  {
   "cell_type": "code",
   "execution_count": null,
   "id": "4e198983",
   "metadata": {},
   "outputs": [],
   "source": [
    "\"\"\"\n",
    "For FacetGrid object: catplot(), relplot(), ...\n",
    "\"\"\"\n",
    "# Set the title for the entire fig\n",
    "\n",
    "# g = sns.catplot()\n",
    "# g.fig.suptitle(\"TITLE\")\n",
    "\n",
    "\n",
    "# Set the title for a single plot\n",
    "\n",
    "# g.set_title(\"TITLE\")"
   ]
  },
  {
   "cell_type": "code",
   "execution_count": null,
   "id": "3b78901e",
   "metadata": {},
   "outputs": [],
   "source": [
    "\"\"\"\n",
    "For AxesSubplot object: boxplot(), scatterplot(), countplot(), ...\n",
    "\"\"\"\n",
    "\n",
    "# g = sns.boxplot()\n",
    "# g.set_title(\"TITLE\")"
   ]
  },
  {
   "cell_type": "markdown",
   "id": "c9af28f9",
   "metadata": {},
   "source": [
    "### Label"
   ]
  },
  {
   "cell_type": "code",
   "execution_count": null,
   "id": "5aaa044f",
   "metadata": {},
   "outputs": [],
   "source": [
    "# g = sns.plot()\n",
    "# g.set(xlabel=\"\", ylabel=\"\")\n",
    "\n",
    "# plt.xticks(rotation=90)"
   ]
  },
  {
   "cell_type": "markdown",
   "id": "6c2e5be1",
   "metadata": {},
   "source": [
    "### Hue\n"
   ]
  },
  {
   "cell_type": "code",
   "execution_count": 4,
   "id": "cf3a9592",
   "metadata": {},
   "outputs": [],
   "source": [
    "# sns.scatterplot(x,y,data, hue = datacolumn, hue_order=datacolum_values[], palette={datacolum_values:colors})\n",
    "# plt.show()\n"
   ]
  },
  {
   "cell_type": "markdown",
   "id": "72cd5c7d",
   "metadata": {},
   "source": [
    "### Size\n"
   ]
  },
  {
   "cell_type": "code",
   "execution_count": 2,
   "id": "3cd92d2c",
   "metadata": {},
   "outputs": [],
   "source": [
    "# sns.relplot(x,y,data,kind, size=\"size\", hue=\"size\")\n"
   ]
  },
  {
   "cell_type": "markdown",
   "id": "6287a19c",
   "metadata": {},
   "source": [
    "### Marker style\n",
    "Change datapoints on the graph to dot, x-mark ..."
   ]
  },
  {
   "cell_type": "code",
   "execution_count": 3,
   "id": "e3149328",
   "metadata": {},
   "outputs": [],
   "source": [
    "# sns.relplot(x,y,data,kind, hue, style=)"
   ]
  },
  {
   "cell_type": "markdown",
   "id": "5246e621",
   "metadata": {},
   "source": [
    "### Transparency"
   ]
  },
  {
   "cell_type": "code",
   "execution_count": 5,
   "id": "b23c02f8",
   "metadata": {},
   "outputs": [],
   "source": [
    "# sns.relplot(x,y,data,kind, hue, alpha=)"
   ]
  },
  {
   "cell_type": "markdown",
   "id": "6c65c1dc",
   "metadata": {},
   "source": [
    "### Global style setting\n",
    "\n",
    "**Figure**\n",
    "\n",
    "`sns.set_style()`\n",
    "\n",
    "- \"white\": default\n",
    "- \"dark\": dark background \n",
    "- \"whitegrid\": white background + grid\n",
    "- \"darkgrid\": dark background + grid\n",
    "\n",
    "**Color**\n",
    "\n",
    "`sns.set_palette()`\n",
    "\n",
    "*Multi-color*\n",
    "- \"RdBu\": Red to Blue\n",
    "- \"RdBu_r\": Blue to Red\n",
    "- \"PRGn\": Purple to Green\n",
    "- \"PRGn_r\": Green to Purple\n",
    "\n",
    "*Single-color*\n",
    "- \"Greys\": light grey to dark grey\n",
    "- \"Blues\": light blue to dark blue\n",
    "\n",
    "*Custom*\n",
    "- palette[]\n",
    "\n",
    "**Scale**\n",
    "\n",
    "`sns.set_context()`\n",
    "\n",
    "*From Smallest to Largest*\n",
    "- \"paper\": ***default***\n",
    "- \"notebook\"\n",
    "- \"talk\"\n",
    "- \"poster\""
   ]
  }
 ],
 "metadata": {
  "kernelspec": {
   "display_name": "Python 3 (ipykernel)",
   "language": "python",
   "name": "python3"
  },
  "language_info": {
   "codemirror_mode": {
    "name": "ipython",
    "version": 3
   },
   "file_extension": ".py",
   "mimetype": "text/x-python",
   "name": "python",
   "nbconvert_exporter": "python",
   "pygments_lexer": "ipython3",
   "version": "3.9.12"
  }
 },
 "nbformat": 4,
 "nbformat_minor": 5
}
