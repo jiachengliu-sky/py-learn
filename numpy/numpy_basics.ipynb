{
 "cells": [
  {
   "cell_type": "markdown",
   "id": "996378dd",
   "metadata": {},
   "source": [
    "# Numpy\n",
    "\n",
    "Numpy is similar to python list, but it only allows a single data type, which makes it efficient to do calculations\n",
    "\n"
   ]
  },
  {
   "cell_type": "markdown",
   "id": "b941ad56",
   "metadata": {},
   "source": [
    "## Initialize"
   ]
  },
  {
   "cell_type": "code",
   "execution_count": 3,
   "id": "b15e1a62",
   "metadata": {},
   "outputs": [],
   "source": [
    "import numpy as np\n",
    "import pandas as pd\n",
    "import matplotlib.pyplot as plt"
   ]
  },
  {
   "cell_type": "markdown",
   "id": "889597d0",
   "metadata": {},
   "source": [
    "## Creating Numpy Arrays"
   ]
  },
  {
   "cell_type": "code",
   "execution_count": 7,
   "id": "eb68c38f",
   "metadata": {},
   "outputs": [],
   "source": [
    "# Create a three-dimension (aka tensor) arrays with 0 for each cell\n",
    "a = np.zeros((5,3,4))\n",
    "\n",
    "# Create a one dimension array with value from 1 to 10\n",
    "b = np.arange(1, 11)\n",
    "\n",
    "# Create a two-dimension aray (aka matrix) with random value beween 0 and 1\n",
    "c = np.random.random((2,4))\n"
   ]
  },
  {
   "cell_type": "markdown",
   "id": "56761dde",
   "metadata": {},
   "source": [
    "## Flatten & Reshape\n"
   ]
  },
  {
   "cell_type": "code",
   "execution_count": 13,
   "id": "61d6141e",
   "metadata": {},
   "outputs": [
    {
     "ename": "NameError",
     "evalue": "name 'product' is not defined",
     "output_type": "error",
     "traceback": [
      "\u001b[0;31m---------------------------------------------------------------------------\u001b[0m",
      "\u001b[0;31mNameError\u001b[0m                                 Traceback (most recent call last)",
      "Input \u001b[0;32mIn [13]\u001b[0m, in \u001b[0;36m<cell line: 9>\u001b[0;34m()\u001b[0m\n\u001b[1;32m      7\u001b[0m \u001b[38;5;66;03m# np.ndarray.reshape() changes the shape of np.ndarray objects\u001b[39;00m\n\u001b[1;32m      8\u001b[0m a_reshaped \u001b[38;5;241m=\u001b[39m a\u001b[38;5;241m.\u001b[39mreshape((\u001b[38;5;241m5\u001b[39m,\u001b[38;5;241m3\u001b[39m,\u001b[38;5;241m4\u001b[39m))\n\u001b[0;32m----> 9\u001b[0m \u001b[43mproduct\u001b[49m(a \u001b[38;5;241m==\u001b[39m a_reshaped)\n",
      "\u001b[0;31mNameError\u001b[0m: name 'product' is not defined"
     ]
    }
   ],
   "source": [
    "# np.ndarray objects has attribute .shape\n",
    "a.shape\n",
    "\n",
    "# np.ndarray.flatten() collapse multi-dimension arrays into an one dimension array\n",
    "a_flat = a.flatten()\n",
    "\n",
    "# np.ndarray.reshape() changes the shape of np.ndarray objects\n",
    "a_reshaped = a.reshape((5,3,4))\n",
    "# a == a_reshaped\n",
    "\n"
   ]
  },
  {
   "cell_type": "markdown",
   "id": "ed4823b9",
   "metadata": {},
   "source": [
    "## Data type\n",
    "\n"
   ]
  },
  {
   "cell_type": "code",
   "execution_count": 15,
   "id": "e50107bb",
   "metadata": {},
   "outputs": [
    {
     "data": {
      "text/plain": [
       "array([ 0.,  1.,  2.,  3.,  4.,  5.,  6.,  7.,  8.,  9., 10.],\n",
       "      dtype=float32)"
      ]
     },
     "execution_count": 15,
     "metadata": {},
     "output_type": "execute_result"
    }
   ],
   "source": [
    "# dtype forces the conversion of data type\n",
    "float32_array = np.arange(0,11,dtype=np.float32)\n",
    "float32_array"
   ]
  },
  {
   "cell_type": "code",
   "execution_count": 16,
   "id": "8f589c3b",
   "metadata": {},
   "outputs": [
    {
     "data": {
      "text/plain": [
       "dtype('float32')"
      ]
     },
     "execution_count": 16,
     "metadata": {},
     "output_type": "execute_result"
    }
   ],
   "source": [
    "# np.ndarray objects has attribute .dtype\n",
    "float32_array.dtype"
   ]
  },
  {
   "cell_type": "code",
   "execution_count": 18,
   "id": "22756aea",
   "metadata": {},
   "outputs": [
    {
     "data": {
      "text/plain": [
       "array([ 0,  1,  2,  3,  4,  5,  6,  7,  8,  9, 10], dtype=int32)"
      ]
     },
     "execution_count": 18,
     "metadata": {},
     "output_type": "execute_result"
    }
   ],
   "source": [
    "int32_array = float32_array.astype(np.int32)\n",
    "int32_array"
   ]
  },
  {
   "cell_type": "markdown",
   "id": "3e691b97",
   "metadata": {},
   "source": [
    "## Indexing & Slicing & Sorting\n",
    "\n",
    "Similar to list indexing and slicing"
   ]
  },
  {
   "cell_type": "code",
   "execution_count": 52,
   "id": "025a75ab",
   "metadata": {},
   "outputs": [
    {
     "data": {
      "text/plain": [
       "array([[37, 12, 72,  9, 75],\n",
       "       [ 5, 79, 64, 16,  1],\n",
       "       [76, 71,  6, 25, 50],\n",
       "       [20, 18, 84, 11, 28]])"
      ]
     },
     "execution_count": 52,
     "metadata": {},
     "output_type": "execute_result"
    }
   ],
   "source": [
    "np.random.seed(1)\n",
    "d = np.random.randint(100, size=20).reshape((4,5))\n",
    "d"
   ]
  },
  {
   "cell_type": "code",
   "execution_count": 53,
   "id": "cdc035f0",
   "metadata": {},
   "outputs": [
    {
     "data": {
      "text/plain": [
       "array([[ 9, 12, 37, 72, 75],\n",
       "       [ 1,  5, 16, 64, 79],\n",
       "       [ 6, 25, 50, 71, 76],\n",
       "       [11, 18, 20, 28, 84]])"
      ]
     },
     "execution_count": 53,
     "metadata": {},
     "output_type": "execute_result"
    }
   ],
   "source": [
    "# np.sort() by default sort by last axis: in a 2D array, the last axis is column, denoted by axis=1\n",
    "np.sort(d)"
   ]
  },
  {
   "cell_type": "code",
   "execution_count": 54,
   "id": "1ea9bf98",
   "metadata": {},
   "outputs": [
    {
     "data": {
      "text/plain": [
       "array([[ 5, 12,  6,  9,  1],\n",
       "       [20, 18, 64, 11, 28],\n",
       "       [37, 71, 72, 16, 50],\n",
       "       [76, 79, 84, 25, 75]])"
      ]
     },
     "execution_count": 54,
     "metadata": {},
     "output_type": "execute_result"
    }
   ],
   "source": [
    "# Can designate a specific axis\n",
    "np.sort(d, axis=0)"
   ]
  },
  {
   "cell_type": "markdown",
   "id": "86c5d426",
   "metadata": {},
   "source": [
    "## Filtering\n"
   ]
  },
  {
   "cell_type": "markdown",
   "id": "7c040ed9",
   "metadata": {},
   "source": [
    "### Filter by mask\n",
    "\n",
    "Create a boolean array by checking if each element matches criterion"
   ]
  },
  {
   "cell_type": "code",
   "execution_count": 71,
   "id": "55d5bd56",
   "metadata": {},
   "outputs": [
    {
     "name": "stdout",
     "output_type": "stream",
     "text": [
      "mask:\n",
      " [False False  True False  True False  True  True False False  True  True\n",
      " False False False False False  True False False]\n",
      "filtered:\n",
      "[72 75 79 64 76 71 84]\n"
     ]
    }
   ],
   "source": [
    "mask = d.flatten()>50\n",
    "print(f\"mask:\\n {mask}\")\n",
    "print(f'filtered:\\n{d.flatten()[mask]}')"
   ]
  },
  {
   "cell_type": "markdown",
   "id": "0a21532d",
   "metadata": {},
   "source": [
    "### Filter by np.where()\n",
    "\n",
    "Returns array of indeces"
   ]
  },
  {
   "cell_type": "code",
   "execution_count": 72,
   "id": "805d7030",
   "metadata": {},
   "outputs": [
    {
     "data": {
      "text/plain": [
       "(array([0, 0, 1, 2, 2, 3]), array([2, 4, 1, 0, 1, 2]))"
      ]
     },
     "execution_count": 72,
     "metadata": {},
     "output_type": "execute_result"
    }
   ],
   "source": [
    "# np.where(d.flatten()>70)\n",
    "np.where(d>70)\n",
    "\n",
    "# Result represents row number array and col number array\n",
    "# For example, d[0,2], d[0,4], d[1,1], ..."
   ]
  },
  {
   "cell_type": "code",
   "execution_count": 73,
   "id": "60ff68a8",
   "metadata": {},
   "outputs": [
    {
     "data": {
      "text/plain": [
       "array([[37, 12, 99,  9, 99],\n",
       "       [ 5, 99, 64, 16,  1],\n",
       "       [99, 99,  6, 25, 50],\n",
       "       [20, 18, 99, 11, 28]])"
      ]
     },
     "execution_count": 73,
     "metadata": {},
     "output_type": "execute_result"
    }
   ],
   "source": [
    "# np.where() can also be used to find and replace\n",
    "\n",
    "# FOr example, find all value larger than 70 and replace with 99\n",
    "np.where(d>70, 99, d)"
   ]
  },
  {
   "cell_type": "markdown",
   "id": "c51b90c9",
   "metadata": {},
   "source": [
    "## Adding & Removing\n"
   ]
  },
  {
   "cell_type": "code",
   "execution_count": null,
   "id": "024ed50e",
   "metadata": {},
   "outputs": [],
   "source": [
    "# np.concatenate((array1, array2), axis=)"
   ]
  },
  {
   "cell_type": "code",
   "execution_count": null,
   "id": "9270bdc2",
   "metadata": {},
   "outputs": [],
   "source": [
    "# np.delete(array, index=, axis=)"
   ]
  },
  {
   "cell_type": "markdown",
   "id": "6c60526e",
   "metadata": {},
   "source": [
    "## Summarizing Data\n"
   ]
  },
  {
   "cell_type": "code",
   "execution_count": null,
   "id": "c27cea6f",
   "metadata": {},
   "outputs": [],
   "source": [
    "# Sum all value; Result is a int value\n",
    "# array.sum()\n",
    "\n",
    "# Sum each single col; Result is a single dimension array\n",
    "# array.sum(axis=0)\n",
    "\n",
    "# Sum each single row; Result is a single dimension array\n",
    "# array.sum(axis=1)\n",
    "\n",
    "# Can keep the original dimension by setting keepdims=True"
   ]
  },
  {
   "cell_type": "code",
   "execution_count": 74,
   "id": "8fe362a8",
   "metadata": {},
   "outputs": [
    {
     "data": {
      "text/plain": [
       "array([[37, 12, 72,  9, 75],\n",
       "       [ 5, 79, 64, 16,  1],\n",
       "       [76, 71,  6, 25, 50],\n",
       "       [20, 18, 84, 11, 28]])"
      ]
     },
     "execution_count": 74,
     "metadata": {},
     "output_type": "execute_result"
    }
   ],
   "source": [
    "d"
   ]
  },
  {
   "cell_type": "code",
   "execution_count": 75,
   "id": "048dc514",
   "metadata": {},
   "outputs": [
    {
     "data": {
      "text/plain": [
       "array([138, 180, 226,  61, 154])"
      ]
     },
     "execution_count": 75,
     "metadata": {},
     "output_type": "execute_result"
    }
   ],
   "source": [
    "d.sum(axis=0)"
   ]
  },
  {
   "cell_type": "markdown",
   "id": "c918de7d",
   "metadata": {},
   "source": [
    "## Vectorize\n",
    "\n"
   ]
  },
  {
   "cell_type": "code",
   "execution_count": null,
   "id": "a2a4a518",
   "metadata": {},
   "outputs": [],
   "source": [
    "# Many functions takes an object as a whole, for example, len(array) would output the number of rows of array. If we want to get the len() of each element, we have to vectorize the function first by:\n",
    "# np.vectorize(function)\n",
    "\n"
   ]
  },
  {
   "cell_type": "markdown",
   "id": "07b31326",
   "metadata": {},
   "source": [
    "## Broadcast"
   ]
  },
  {
   "cell_type": "code",
   "execution_count": null,
   "id": "11308c92",
   "metadata": {},
   "outputs": [],
   "source": [
    "# Single number can be applied to all array\n",
    "\n",
    "# Single-dimension array can be applied to array that has the same col length\n",
    "# shape(3,) can be applied to shape(5,3)\n",
    "\n",
    "# Two-dimension array can be applied to another two-dimension array when:\n",
    "# 1. col length are the same & row length of either array is 1\n",
    "# 2. col length of either array is 1 & row length are the same\n",
    "# 3. Shapes are identical"
   ]
  },
  {
   "cell_type": "markdown",
   "id": "8c40aae9",
   "metadata": {},
   "source": [
    "## Saving & Loading"
   ]
  },
  {
   "cell_type": "markdown",
   "id": "771421c7",
   "metadata": {},
   "source": [
    "### Loading\n",
    "```python\n",
    "with open(\"npdata.npy\", \"rb\") as f:\n",
    "    array = np.load(f)\n",
    "```\n",
    "\n",
    "### Saving\n",
    "```python\n",
    "with open(\"npdata.npy\", \"wb\") as f:\n",
    "    np.save(f, array)\n",
    "```"
   ]
  },
  {
   "cell_type": "markdown",
   "id": "46c7981b",
   "metadata": {},
   "source": [
    "## Flip & Transpose"
   ]
  },
  {
   "cell_type": "code",
   "execution_count": null,
   "id": "7087bd6a",
   "metadata": {},
   "outputs": [],
   "source": [
    "# np.flip(array, axis=)\n",
    "\n",
    "# np.transpose(array, axes=())"
   ]
  },
  {
   "cell_type": "markdown",
   "id": "62c56ed8",
   "metadata": {},
   "source": [
    "## Split & Stack"
   ]
  },
  {
   "cell_type": "code",
   "execution_count": null,
   "id": "763ba7e1",
   "metadata": {},
   "outputs": [],
   "source": [
    "# np.split(array, number_arrays, axis=)\n",
    "\n",
    "# np.stack([array1, array2], axis=)"
   ]
  }
 ],
 "metadata": {
  "kernelspec": {
   "display_name": "Python 3 (ipykernel)",
   "language": "python",
   "name": "python3"
  },
  "language_info": {
   "codemirror_mode": {
    "name": "ipython",
    "version": 3
   },
   "file_extension": ".py",
   "mimetype": "text/x-python",
   "name": "python",
   "nbconvert_exporter": "python",
   "pygments_lexer": "ipython3",
   "version": "3.9.12"
  }
 },
 "nbformat": 4,
 "nbformat_minor": 5
}
