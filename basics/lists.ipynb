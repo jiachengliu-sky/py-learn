{
 "cells": [
  {
   "cell_type": "markdown",
   "metadata": {},
   "source": [
    "# Lists"
   ]
  },
  {
   "cell_type": "code",
   "execution_count": 6,
   "metadata": {},
   "outputs": [
    {
     "data": {
      "text/plain": [
       "[3, 'hello', True, 4, 5, 'World']"
      ]
     },
     "execution_count": 6,
     "metadata": {},
     "output_type": "execute_result"
    }
   ],
   "source": [
    "# Creating a list\n",
    "a = []\n",
    "\n",
    "# List can accommendates different types of variables\n",
    "a = [3, \"hello\", True, 4, 5, \"World\"]\n",
    "a\n"
   ]
  },
  {
   "cell_type": "code",
   "execution_count": 9,
   "metadata": {},
   "outputs": [
    {
     "name": "stdout",
     "output_type": "stream",
     "text": [
      "[3, 'hello']\n",
      "World\n",
      "[3, True, 5]\n",
      "['World', 5, 4, True, 'hello', 3]\n"
     ]
    }
   ],
   "source": [
    "# Slicing\n",
    "\n",
    "# [start(inclusive):end(exclusive)]\n",
    "print(a[0:2])\n",
    "\n",
    "# count from end\n",
    "print(a[-1])\n",
    "\n",
    "# steps\n",
    "print(a[::2])   # Skip one\n",
    "print(a[::-1])  # Print elements in reversed order\n"
   ]
  },
  {
   "cell_type": "code",
   "execution_count": 46,
   "metadata": {},
   "outputs": [
    {
     "name": "stdout",
     "output_type": "stream",
     "text": [
      "None\n",
      "2\n",
      "4\n",
      "'hello' is not in list\n",
      "[1111, 22222, 32, 3, 6, 1, 5, 3]\n",
      "[1111, 22222, 32, 3, 6]\n",
      "[1, 1111, 22222, 32, 3, 6, 1, 5, 3]\n",
      "pop starts here\n",
      "[1111, 22222, 32, 3, 6]\n",
      "6\n",
      "[]\n"
     ]
    }
   ],
   "source": [
    "# Methods\n",
    "b = [3,5,1,6,3,32,22222,1111,1]\n",
    "\n",
    "print(b.reverse())  # reverse the order of list object\n",
    "print(b.count(1))   # Occurence of element\n",
    "print(b.index(3))   # Index of first found matching element\n",
    "\n",
    "# ValueError if element not present\n",
    "try:\n",
    "    print(b.index(\"hello\"))\n",
    "except ValueError as e:\n",
    "    print(e)\n",
    "\n",
    "# Use copy() to get a new copy, otherwise, c is pointed to b\n",
    "c = b.copy()\n",
    "c.remove(1)     # remove() remove element by value; throw ValueError if not found\n",
    "print(c)\n",
    "del(c[5:30])    # del() remove by index, can go over index range\n",
    "print(c)\n",
    "print(b)\n",
    "\n",
    "print(\"pop starts here\")\n",
    "print(c)\n",
    "print(c.pop() )    # pop() returns the deleted value\n",
    "c.pop()\n",
    "c.pop()\n",
    "c.pop()\n",
    "c.pop()             # raise Error if pop an empty list\n",
    "print(c)\n"
   ]
  },
  {
   "cell_type": "code",
   "execution_count": 49,
   "metadata": {},
   "outputs": [
    {
     "data": {
      "text/plain": [
       "2"
      ]
     },
     "execution_count": 49,
     "metadata": {},
     "output_type": "execute_result"
    }
   ],
   "source": [
    "# List of list\n",
    "d = [[1,2,3],[4,5,6],[7,8,9]]\n",
    "\n",
    "d[0][1]"
   ]
  },
  {
   "cell_type": "code",
   "execution_count": null,
   "metadata": {},
   "outputs": [],
   "source": []
  }
 ],
 "metadata": {
  "kernelspec": {
   "display_name": "Python 3.9.12 ('base')",
   "language": "python",
   "name": "python3"
  },
  "language_info": {
   "codemirror_mode": {
    "name": "ipython",
    "version": 3
   },
   "file_extension": ".py",
   "mimetype": "text/x-python",
   "name": "python",
   "nbconvert_exporter": "python",
   "pygments_lexer": "ipython3",
   "version": "3.9.12"
  },
  "orig_nbformat": 4,
  "vscode": {
   "interpreter": {
    "hash": "cd78fef2128015050713e82ca51c6520b11aee7c9ee8df750520bbbc7384cbaa"
   }
  }
 },
 "nbformat": 4,
 "nbformat_minor": 2
}
