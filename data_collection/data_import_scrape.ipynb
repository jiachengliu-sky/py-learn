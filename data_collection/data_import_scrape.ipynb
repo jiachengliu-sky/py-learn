{
 "cells": [
  {
   "cell_type": "markdown",
   "id": "0b95b2f1",
   "metadata": {},
   "source": [
    "# Data Import & Web Scrape\n"
   ]
  },
  {
   "cell_type": "markdown",
   "id": "2ddd1550",
   "metadata": {
    "tags": []
   },
   "source": [
    "## Basics"
   ]
  },
  {
   "cell_type": "markdown",
   "id": "66e9fd55-8580-480e-bb67-ebc0863a5181",
   "metadata": {},
   "source": [
    "### open()\n",
    "\n",
    "```python\n",
    "file = open('../dataset/medals.csv', 'r')\n",
    "display(file.read())\n",
    "display(file)\n",
    "file.close()\n",
    "file.closed\n",
    "```"
   ]
  },
  {
   "cell_type": "markdown",
   "id": "648de9a3-2ae7-48ce-820e-fea7c4f46b71",
   "metadata": {},
   "source": [
    "### `with open()` is a context manager\n",
    "\n",
    "```python\n",
    "with open('../dataset/medals.csv', 'r') as file:\n",
    "    display(file.readline())\n",
    "    display(file.readline())\n",
    "    display(file.readline())\n",
    "\n",
    "display(file)\n",
    "    \n",
    "file.closed\n",
    "```"
   ]
  },
  {
   "cell_type": "markdown",
   "id": "37d67ab7",
   "metadata": {},
   "source": [
    "## np.loadtxt()\n",
    "\n",
    "Can import multiple rows and cols, but numpy array can only take one datatype\n",
    "\n",
    "\n",
    "```python\n",
    "import numpy as np\n",
    "\n",
    "filepath=''\n",
    "skip=0\n",
    "cols = []\n",
    "\n",
    "# delimiter can be '\\t', ' ', or ','\n",
    "try:\n",
    "    np.loadtxt(filepath, delimiter='', skiprows= skip, usecols=cols, dtype = str)\n",
    "except:\n",
    "    pass\n",
    "```"
   ]
  },
  {
   "cell_type": "markdown",
   "id": "06a34012",
   "metadata": {},
   "source": [
    "## np.genfromtxt()\n",
    "\n",
    "- Can import multiple datatypes into a 1D array\n",
    "\n",
    "- `names` indicate whether has header row\n",
    "\n",
    "```python\n",
    "try:\n",
    "    np.genfromtxt(filepath, delimiter='', names=True, dtype=None)\n",
    "except:\n",
    "    pass\n",
    "```"
   ]
  },
  {
   "cell_type": "markdown",
   "id": "d95f567f",
   "metadata": {},
   "source": [
    "## np.recfromcsv()\n",
    "\n",
    "Similar to genfromtxt() with default `dtype=None`\n",
    "\n",
    "\n",
    "```python\n",
    "try:\n",
    "    np.genfromtxt(filepath, delimiter='', names=True)\n",
    "except:\n",
    "    pass\n",
    "```"
   ]
  },
  {
   "cell_type": "markdown",
   "id": "40406f9e",
   "metadata": {},
   "source": [
    "## pd.read_csv()\n",
    "\n",
    "\n",
    "```python\n",
    "import pandas as pd\n",
    "\n",
    "# nrows defines how many rows to read from the file\n",
    "# header=None indicate no header row in the file\n",
    "# comment='#' indicate comment identifiers\n",
    "# na_values='NaN' indicate Null value identifiers\n",
    "try:\n",
    "    pd.read_csv(filepath, nrows=5, header=None, sep='', comment='#', na_values='NaN', parse_dates = [])\n",
    "except:\n",
    "    pass\n",
    "\n",
    "```"
   ]
  },
  {
   "cell_type": "markdown",
   "id": "b718b7f3-769e-4c5d-b5da-d2717f717b24",
   "metadata": {},
   "source": [
    "## pd.ExcelFile()\n",
    "```python\n",
    "xls = pd.ExcelFile(filepath)\n",
    "display(xls.sheet_names)\n",
    "\n",
    "# parse by worksheet index\n",
    "# usecols indicate which columns to be parsed\n",
    "# names is a list of column names\n",
    "df1 = xls.parse(0, usecols=[], skiprows=skip, names=[])\n",
    "\n",
    "#parse by worksheet name\n",
    "df2 = xls.parse(sheet_name)\n",
    "```"
   ]
  },
  {
   "cell_type": "markdown",
   "id": "fe23cb39-695f-4d48-b2cd-239ec738a739",
   "metadata": {
    "jp-MarkdownHeadingCollapsed": true,
    "tags": []
   },
   "source": [
    "## pd.read_excel()\n",
    "\n",
    "```python\n",
    "# sheetname can be set to:\n",
    "# an index, \n",
    "# a str of Worksheet name, \n",
    "# a str list of Worksheet name: returns a dict where keys are Worksheet names, and values are pd.DataFrame\n",
    " \n",
    "pd.read_excel(filepath, sheetname= , na_values=)\n",
    "```"
   ]
  },
  {
   "cell_type": "markdown",
   "id": "1b9caa3c",
   "metadata": {},
   "source": [
    "## pickle"
   ]
  },
  {
   "cell_type": "markdown",
   "id": "14905cb8-dd42-4692-b991-38491bbe177c",
   "metadata": {},
   "source": [
    "\n",
    "```python\n",
    "import pickle\n",
    "\n",
    "try:\n",
    "    with open(filepath, 'rb') as file:\n",
    "        pickle.load(file)\n",
    "except:\n",
    "    pass\n",
    "```"
   ]
  },
  {
   "cell_type": "markdown",
   "id": "a6214c02",
   "metadata": {},
   "source": [
    "## SAS & Stata"
   ]
  },
  {
   "cell_type": "markdown",
   "id": "78d8dbf7-5e8c-4394-a18b-85d47f779798",
   "metadata": {},
   "source": [
    "# from sas7bdat import SAS7BDAT\n",
    "\n",
    "```python\n",
    "try:\n",
    "    with SAS7BDAT(filepaht) as file:\n",
    "        df_sas = file.to_data_frame()\n",
    "except:\n",
    "    pass\n",
    "```"
   ]
  },
  {
   "cell_type": "markdown",
   "id": "16d4857f-dda3-4441-9d7f-f93b29ba960f",
   "metadata": {},
   "source": [
    "\n",
    "```python\n",
    "try:\n",
    "    df_stata = pd.read_stata(filepath)\n",
    "except:\n",
    "    pass\n",
    "```"
   ]
  },
  {
   "cell_type": "markdown",
   "id": "1178d3cc",
   "metadata": {},
   "source": [
    "## HDF5"
   ]
  },
  {
   "cell_type": "markdown",
   "id": "22b0a18b-27d7-4a42-955d-fe4606cb0a72",
   "metadata": {},
   "source": [
    "\n",
    "```python\n",
    "import h5py\n",
    "\n",
    "try:\n",
    "    h5py_data = h5py.File(filepath, 'r')\n",
    "except:\n",
    "    pass\n",
    "```"
   ]
  },
  {
   "cell_type": "markdown",
   "id": "f002f480",
   "metadata": {},
   "source": [
    "## MATLAB"
   ]
  },
  {
   "cell_type": "markdown",
   "id": "1075bb6a-d5f8-4d8b-80b0-54aa5e2196b0",
   "metadata": {},
   "source": [
    "\n",
    "```python\n",
    "import scipy.io\n",
    "\n",
    "try:\n",
    "    mat = scipy.io.loadmat(filepath)\n",
    "except:\n",
    "    pass\n",
    "```"
   ]
  },
  {
   "cell_type": "markdown",
   "id": "87e39ee3",
   "metadata": {},
   "source": [
    "## Relational Database\n"
   ]
  },
  {
   "cell_type": "markdown",
   "id": "2ea10932-cfa1-4715-b12b-e6ab45c785f9",
   "metadata": {},
   "source": [
    "# Initialize\n",
    "\n",
    "\n",
    "```python\n",
    "from sqlalchemy import create_engine\n",
    "\n",
    "engine = create_engine('sqlite:///Northwind.sqlite')\n",
    "```"
   ]
  },
  {
   "cell_type": "markdown",
   "id": "e6d00a29-7c05-4057-b85a-e8a1e7278b25",
   "metadata": {},
   "source": [
    "# Method 1 with full steps\n",
    "\n",
    "```python\n",
    "try:\n",
    "    con = engine.connect()\n",
    "\n",
    "    rs = con.execute(\"SELECT * FROM Orders\")\n",
    "    df = pd.DataFrame(rs.fetchall())\n",
    "    df.columns = rs.keys()\n",
    "\n",
    "    con.close()\n",
    "except:\n",
    "    pass\n",
    "\n",
    "```"
   ]
  },
  {
   "cell_type": "markdown",
   "id": "4958e466-37ed-4044-a309-2a613a24b47b",
   "metadata": {},
   "source": [
    "# Method 2 with context manager\n",
    "\n",
    "```python\n",
    "try:\n",
    "    with engine.connect() as con:\n",
    "        rs = con.execute(\"SELECT * FROM Orders\")\n",
    "        df = pd.DataFrame(rs.fetchmany(size=5))\n",
    "        df.columns = rs.keys()\n",
    "\n",
    "except:\n",
    "    pass\n",
    "```"
   ]
  },
  {
   "cell_type": "markdown",
   "id": "0b110f18-2634-41a1-9bc8-506aadba70f3",
   "metadata": {},
   "source": [
    "# Method 3 using pd.read_sql_query(query, engine)\n",
    "\n",
    "\n",
    "```python\n",
    "try:\n",
    "    df = pd.read_sql_query(\"SELECT * FROM Orders\", engine)\n",
    "    \n",
    "```"
   ]
  },
  {
   "cell_type": "markdown",
   "id": "c5b0333d",
   "metadata": {},
   "source": [
    "## Data Scrape\n"
   ]
  },
  {
   "cell_type": "markdown",
   "id": "51237737",
   "metadata": {},
   "source": [
    "### Request"
   ]
  },
  {
   "cell_type": "markdown",
   "id": "62d880df-6c76-4973-907a-f33d927d7a9a",
   "metadata": {},
   "source": [
    "\n",
    "```python\n",
    "from urllib.request import urlretrieve\n",
    "\n",
    "url = ''\n",
    "filename = ''\n",
    "\n",
    "try:\n",
    "    urlretrieve(url, filename)\n",
    "    df = pd.read_csv(filename)\n",
    "except:\n",
    "    pass\n",
    "```"
   ]
  },
  {
   "cell_type": "markdown",
   "id": "f56d2d44-fff6-44d9-a705-ca87f51e32ad",
   "metadata": {},
   "source": [
    "\n",
    "```python\n",
    "from urllib.request import urlopen, Request\n",
    "\n",
    "url = ''\n",
    "\n",
    "try:\n",
    "    request = Request(url)\n",
    "    response = urlopen(request)\n",
    "    html = response.read()\n",
    "    response.close()\n",
    "except:\n",
    "    pass\n",
    "```"
   ]
  },
  {
   "cell_type": "markdown",
   "id": "8e0a9cba-e393-458b-85db-ceb31ed5c4b4",
   "metadata": {},
   "source": [
    "\n",
    "```python\n",
    "import requests\n",
    "\n",
    "url = ''\n",
    "\n",
    "try:\n",
    "    r = request.get(url)\n",
    "    text = r.text\n",
    "except:\n",
    "    pass\n",
    "```"
   ]
  },
  {
   "cell_type": "markdown",
   "id": "ab0d5a86-8650-4ce2-85ef-aad525598fe8",
   "metadata": {},
   "source": [
    "### BeautifulSoup\n",
    "\n",
    "```python\n",
    "from bs4 import BeautifulSoup\n",
    "import requests\n",
    "\n",
    "url = ''\n",
    "try:\n",
    "    r = requests.get(url)\n",
    "    html = r.text\n",
    "    \n",
    "    soup = BeautifulSoup(html)\n",
    "    pretty_soup = soup.prettify()\n",
    "    \n",
    "    print(soup.title)\n",
    "    print(soup.get_text())\n",
    "    \n",
    "except:\n",
    "    pass\n",
    "\n",
    "```"
   ]
  },
  {
   "cell_type": "markdown",
   "id": "911eb352",
   "metadata": {},
   "source": [
    "### API & JSON\n"
   ]
  },
  {
   "cell_type": "markdown",
   "id": "f5be267b-5561-49f0-9a32-f9b1571c1d32",
   "metadata": {},
   "source": [
    "\n",
    "```python\n",
    "import json\n",
    "\n",
    "try:\n",
    "    with open(filepath, 'r') as json_file:\n",
    "        # json.load() returns a dictionary object\n",
    "        json_data = json.load(json_file)\n",
    "```"
   ]
  },
  {
   "cell_type": "markdown",
   "id": "0f713d2c-33d3-4c36-af8b-ec64b6b78cc4",
   "metadata": {},
   "source": [
    "\n",
    "```python\n",
    "import requests\n",
    "\n",
    "http_prefix = 'http://'\n",
    "api = 'www.omdbapi.com'\n",
    "query = '?apikey=72bc447a&t=hackers'\n",
    "\n",
    "url = http_prefix+api+query\n",
    "\n",
    "try:\n",
    "    r = requests.get(url)\n",
    "    json_data = r.json()\n",
    "    print(json_data.keys())\n",
    "except:\n",
    "    pass\n",
    "\n",
    "\n",
    "```"
   ]
  }
 ],
 "metadata": {
  "kernelspec": {
   "display_name": "Python 3 (ipykernel)",
   "language": "python",
   "name": "python3"
  },
  "language_info": {
   "codemirror_mode": {
    "name": "ipython",
    "version": 3
   },
   "file_extension": ".py",
   "mimetype": "text/x-python",
   "name": "python",
   "nbconvert_exporter": "python",
   "pygments_lexer": "ipython3",
   "version": "3.10.4"
  }
 },
 "nbformat": 4,
 "nbformat_minor": 5
}
