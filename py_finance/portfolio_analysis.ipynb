{
 "cells": [
  {
   "cell_type": "markdown",
   "id": "8628798c-fc4a-447e-9829-dda03d8f2ee9",
   "metadata": {},
   "source": [
    "# Porfolio Analysis"
   ]
  },
  {
   "cell_type": "markdown",
   "id": "e031dacd-3af0-41cd-9d21-b46587ce3cd6",
   "metadata": {},
   "source": [
    "## Returns\n",
    "\n",
    "daily return = (daily close - daily open) / (daily open)\n",
    "total return = (Price_tn - Price_t0) / Price_t0\n",
    "\n",
    "Average return = total return.mean()\n",
    "\n",
    "Geometric return = (daily return + 1).cumprod()"
   ]
  },
  {
   "cell_type": "markdown",
   "id": "7729948b-1abe-4367-ae57-080bdab73db6",
   "metadata": {},
   "source": [
    "## Risk\n",
    "\n",
    "stock variance = np.sum((daily return - average return)^2)/N\n",
    "\n",
    "covariance = daily return.cov()\n",
    "\n",
    "standard deviation = pct_change().std()\n",
    "\n",
    "volatility = standard deviation * sqrt(days)\n",
    "\n",
    "sharpe ratio = (annualized return - risk free rate) / annualized volatility\n",
    "\n",
    "sortino ratio = (annualized return - risk free rate) / negative return std\n",
    "\n",
    "max drawdown = peak - valley"
   ]
  },
  {
   "cell_type": "markdown",
   "id": "dca120c6-4c5b-4254-bc5a-63b102ac1165",
   "metadata": {},
   "source": [
    "## Factor Models\n",
    "\n",
    "Fema Factors"
   ]
  },
  {
   "cell_type": "markdown",
   "id": "94f97913-c082-4cf9-989a-0efd07ca0e1f",
   "metadata": {
    "tags": []
   },
   "source": [
    "## `Pyfolio` package\n",
    "\n",
    "```python\n",
    "import pyfolio as pf\n",
    "\n",
    "returns = pd.Series(pd.read_Csv('pf_retuns.csv'))\n",
    "returns.index=pd.to_datetime(returns.index)\n",
    "\n",
    "pf.create_returns_tear_sheet(returns)\n",
    "\n",
    "sect_map = {'COST': 'Consumer Goods', 'INTC':'Technology'}\n",
    "\n",
    "pf.create_position_tear_sheet(returns, positions, sector_mappings=sect_map)\n",
    "```"
   ]
  },
  {
   "cell_type": "markdown",
   "id": "5f6e7632-0c38-4a19-80d7-fe98022554f3",
   "metadata": {},
   "source": [
    "## `PyPortfolioOpt` package\n",
    "\n",
    "```python\n",
    "from pypfopt.efficient_frontier import EfficientFrontier\n",
    "from pypfopt import risk_models\n",
    "from pypfopt import expected_returns\n",
    "\n",
    "# Unweighted return\n",
    "mean_return = expected_returns.mean_historical_return(df)\n",
    "volatility = risk_models.sample_cov(df)\n",
    "\n",
    "# Exponentially weighted returns\n",
    "weighted_mean_return = expected_returns.ema_historical_return(df, span=252, frequency=252)\n",
    "weighted_volatility = risk_models.exp_cov(df, span=180, frequency=252)\n",
    "\n",
    "\n",
    "\n",
    "\n",
    "ef = EfficientFrontier(mean_return, sigma)\n",
    "\n",
    "\n",
    "#PORTFOLIO SELECTION:\n",
    "\n",
    "# Maximum Sharpe Ratio portfolio\n",
    "ef.max_sharpe()\n",
    "\n",
    "# Optimal Return portfolio for a target risk\n",
    "ef.efficient_risk()\n",
    "\n",
    "# Minimal risk for a target return\n",
    "ef.efficient_return(1.5)\n",
    "\n",
    "# Minimum volatility portfolio\n",
    "ef.min_volatility()\n",
    "\n",
    "\n",
    "# PORTFOLIO EVALUATION:\n",
    "\n",
    "# To show weights of portfolio\n",
    "ef.clean_weights() \n",
    "\n",
    "# Performance\n",
    "ef.portfolio_performance(verbose=True, risk_free_rate = 0.01)\n",
    "```"
   ]
  },
  {
   "cell_type": "code",
   "execution_count": null,
   "id": "a6612f3e-7b55-4514-a5d8-b0410495e15b",
   "metadata": {},
   "outputs": [],
   "source": []
  }
 ],
 "metadata": {
  "kernelspec": {
   "display_name": "Python 3 (ipykernel)",
   "language": "python",
   "name": "python3"
  },
  "language_info": {
   "codemirror_mode": {
    "name": "ipython",
    "version": 3
   },
   "file_extension": ".py",
   "mimetype": "text/x-python",
   "name": "python",
   "nbconvert_exporter": "python",
   "pygments_lexer": "ipython3",
   "version": "3.10.4"
  }
 },
 "nbformat": 4,
 "nbformat_minor": 5
}
