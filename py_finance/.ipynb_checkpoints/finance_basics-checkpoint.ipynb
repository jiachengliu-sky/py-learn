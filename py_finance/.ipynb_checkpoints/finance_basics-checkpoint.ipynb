{
 "cells": [
  {
   "cell_type": "code",
   "execution_count": 1,
   "id": "e4daef2d-5637-4570-9b9b-74bcb19874a1",
   "metadata": {},
   "outputs": [
    {
     "data": {
      "text/plain": [
       "'%.2f'"
      ]
     },
     "execution_count": 1,
     "metadata": {},
     "output_type": "execute_result"
    }
   ],
   "source": [
    "import numpy as np\n",
    "import matplotlib.pyplot as plt\n",
    "\n",
    "from datetime import datetime\n",
    "\n",
    "import numpy_financial as npf\n",
    "\n",
    "%precision %.2f"
   ]
  },
  {
   "cell_type": "markdown",
   "id": "875ca130-f013-4547-92bb-3ff886cfa132",
   "metadata": {},
   "source": [
    "# Present Value"
   ]
  },
  {
   "cell_type": "code",
   "execution_count": 9,
   "id": "9b15c931-fb9b-4496-a9f6-301f0c142709",
   "metadata": {},
   "outputs": [
    {
     "data": {
      "text/plain": [
       "-97.06"
      ]
     },
     "execution_count": 9,
     "metadata": {},
     "output_type": "execute_result"
    }
   ],
   "source": [
    "npf.pv(rate=0.01, nper=3, pmt=0, fv=100)"
   ]
  },
  {
   "cell_type": "markdown",
   "id": "c7002042-9fca-4b51-b1c4-77daca3680c1",
   "metadata": {},
   "source": [
    "# Future Value"
   ]
  },
  {
   "cell_type": "code",
   "execution_count": 10,
   "id": "5976cd53-af8b-45f9-9405-9c9957d2905d",
   "metadata": {},
   "outputs": [
    {
     "data": {
      "text/plain": [
       "115.76"
      ]
     },
     "execution_count": 10,
     "metadata": {},
     "output_type": "execute_result"
    }
   ],
   "source": [
    "npf.fv(rate=0.05, nper=3,pmt=0,pv=-100)"
   ]
  },
  {
   "cell_type": "markdown",
   "id": "7e7b0fe1-f684-44b4-9d59-eb7def3c1803",
   "metadata": {},
   "source": [
    "# Net Present Value\n",
    "\n",
    "A project is profitable only if NPV > Initial Investment\n",
    "\n",
    "Drawback: Only shows the lumpsum cashflow of an investment. It does not show the profitability."
   ]
  },
  {
   "cell_type": "code",
   "execution_count": 10,
   "id": "92c91218-2098-4855-a7b0-6568ae24dd8f",
   "metadata": {},
   "outputs": [
    {
     "data": {
      "text/plain": [
       "382.17"
      ]
     },
     "execution_count": 10,
     "metadata": {},
     "output_type": "execute_result"
    }
   ],
   "source": [
    "cashflow = np.array([-100,100,125,150,175])\n",
    "npf.npv(rate=0.05, values=cashflow)"
   ]
  },
  {
   "cell_type": "markdown",
   "id": "f044c989-1304-40f1-84aa-2c42ad599847",
   "metadata": {},
   "source": [
    "# Internal Rate of Return\n",
    "\n",
    "Only projects with a positive IRR are meaningful\n",
    "\n",
    "Drawback: Only shows the total profitability of a project. It does not indicate the size of investment and return."
   ]
  },
  {
   "cell_type": "code",
   "execution_count": 9,
   "id": "fecf4fba-1ea9-4ba2-a313-e86c089b6ad9",
   "metadata": {},
   "outputs": [
    {
     "data": {
      "text/plain": [
       "1.11"
      ]
     },
     "execution_count": 9,
     "metadata": {},
     "output_type": "execute_result"
    }
   ],
   "source": [
    "cashflow = np.array([-100,100,125,150,175])\n",
    "npf.irr(cashflow)"
   ]
  },
  {
   "cell_type": "markdown",
   "id": "7957205f-321c-4f6e-95de-1bd52239b19a",
   "metadata": {},
   "source": [
    "# Weighted Average Cost of Capital\n",
    "\n",
    "WACC is a good estimator for discount rate"
   ]
  },
  {
   "cell_type": "code",
   "execution_count": null,
   "id": "9efefc06-9886-476f-a061-f518cfff052d",
   "metadata": {},
   "outputs": [],
   "source": [
    "wacc = percent_debt * cost_debt * (1-tax_rate) + percent_equity * cost_equity"
   ]
  },
  {
   "cell_type": "markdown",
   "id": "31135a54-3e2f-4d98-8b7a-e3ad7a0beb24",
   "metadata": {},
   "source": [
    "# Equivalent Annual Annuity\n",
    "\n",
    "Annualized Return"
   ]
  },
  {
   "cell_type": "code",
   "execution_count": 21,
   "id": "226df900-4ac2-441b-a919-ec1707c5dcfd",
   "metadata": {},
   "outputs": [
    {
     "data": {
      "text/plain": [
       "141.01"
      ]
     },
     "execution_count": 21,
     "metadata": {},
     "output_type": "execute_result"
    }
   ],
   "source": [
    "npv = 500\n",
    "npf.pmt(rate = 0.05, nper=4, pv = -npv, fv=0)"
   ]
  },
  {
   "cell_type": "markdown",
   "id": "10817f07-1837-4a5e-887d-26c743708695",
   "metadata": {},
   "source": [
    "# Mortgage\n",
    "\n",
    "Underwater: Principal remained > Home Value"
   ]
  },
  {
   "cell_type": "code",
   "execution_count": 28,
   "id": "ed843db8-52dd-482a-8153-745de07787dd",
   "metadata": {},
   "outputs": [
    {
     "data": {
      "text/plain": [
       "-2573.48"
      ]
     },
     "execution_count": 28,
     "metadata": {},
     "output_type": "execute_result"
    }
   ],
   "source": [
    "# Monthly Payment\n",
    "\n",
    "monthly_rate = (0.0375+1)**(1/12)-1\n",
    "periods = 30*12\n",
    "mortgage_loan = 800000*0.7\n",
    "\n",
    "npf.pmt(rate = monthly_rate, nper = periods, pv=mortgage_loan, fv=0)"
   ]
  },
  {
   "cell_type": "markdown",
   "id": "7b1e076f-30ba-420c-be5e-25fd47c17202",
   "metadata": {},
   "source": [
    "# Retirement Planning\n"
   ]
  },
  {
   "cell_type": "code",
   "execution_count": 47,
   "id": "8c6225ed-1a27-45b1-bf55-b58a811cd1f5",
   "metadata": {},
   "outputs": [
    {
     "data": {
      "text/plain": [
       "-2464.24"
      ]
     },
     "execution_count": 47,
     "metadata": {},
     "output_type": "execute_result"
    }
   ],
   "source": [
    "# How much to invest monthly to accumulate $1M in 20 years\n",
    "\n",
    "year = 20\n",
    "month = year * 12\n",
    "\n",
    "annual_rate = 0.05\n",
    "# monthly rate is in compound rate\n",
    "monthly_rate = (1+annual_rate)**(1/12)-1\n",
    "\n",
    "fv = 1000000\n",
    "pv = 0\n",
    "\n",
    "npf.pmt(rate = monthly_rate, nper = month, fv = fv, pv = pv)"
   ]
  },
  {
   "cell_type": "code",
   "execution_count": 49,
   "id": "d016863b-6be5-402e-8390-52996948bf88",
   "metadata": {
    "tags": []
   },
   "outputs": [
    {
     "data": {
      "text/plain": [
       "610270.94"
      ]
     },
     "execution_count": 49,
     "metadata": {},
     "output_type": "execute_result"
    }
   ],
   "source": [
    "# How much $1M worth in 20 years using present value\n",
    "\n",
    "year = 20\n",
    "inflation = 0.025\n",
    "fv = 1000000\n",
    "pmt = 0\n",
    "\n",
    "npf.pv(rate = inflation, nper = year, pmt= pmt, fv = -fv)"
   ]
  }
 ],
 "metadata": {
  "kernelspec": {
   "display_name": "Python 3 (ipykernel)",
   "language": "python",
   "name": "python3"
  },
  "language_info": {
   "codemirror_mode": {
    "name": "ipython",
    "version": 3
   },
   "file_extension": ".py",
   "mimetype": "text/x-python",
   "name": "python",
   "nbconvert_exporter": "python",
   "pygments_lexer": "ipython3",
   "version": "3.9.12"
  }
 },
 "nbformat": 4,
 "nbformat_minor": 5
}
