{
 "cells": [
  {
   "cell_type": "markdown",
   "metadata": {},
   "source": [
    "# np.array\n"
   ]
  },
  {
   "cell_type": "code",
   "execution_count": 1,
   "metadata": {},
   "outputs": [],
   "source": [
    "import numpy as np"
   ]
  },
  {
   "cell_type": "code",
   "execution_count": 2,
   "metadata": {},
   "outputs": [],
   "source": [
    "baseball = [[180, 78.4],\n",
    "            [215, 102.7],\n",
    "            [210, 98.5],\n",
    "            [188, 75.2]]\n"
   ]
  },
  {
   "cell_type": "code",
   "execution_count": 3,
   "metadata": {},
   "outputs": [
    {
     "name": "stdout",
     "output_type": "stream",
     "text": [
      "(4, 2)\n",
      "102.7\n",
      "102.7\n"
     ]
    },
    {
     "data": {
      "text/plain": [
       "array([[180. ,  78.4],\n",
       "       [215. , 102.7],\n",
       "       [210. ,  98.5],\n",
       "       [188. ,  75.2]])"
      ]
     },
     "execution_count": 3,
     "metadata": {},
     "output_type": "execute_result"
    }
   ],
   "source": [
    "np_baseball = np.array(baseball)\n",
    "print(np_baseball.shape)\n",
    "\n",
    "# Two ways to select a value from a 2D array\n",
    "# List does not allow such operation\n",
    "print(np_baseball[1,1])\n",
    "print(np_baseball[1][1])\n",
    "\n",
    "# print(baseball[1][1]) # VALID\n",
    "# print(baseball[1,1])  # NOT VALID\n",
    "\n",
    "np_baseball"
   ]
  },
  {
   "cell_type": "code",
   "execution_count": 4,
   "metadata": {},
   "outputs": [
    {
     "name": "stdout",
     "output_type": "stream",
     "text": [
      "[180. 215. 210. 188.]\n",
      "(4,)\n",
      "[ 78.4 102.7  98.5  75.2]\n"
     ]
    }
   ],
   "source": [
    "# Can think ndarray as multiple columns of values\n",
    "# Therefore select each single column\n",
    "# List does not allow such operation\n",
    "height= np_baseball[:,0]\n",
    "weight = np_baseball[:,1]\n",
    "\n",
    "# print(baseball[:,0])\n",
    "\n",
    "\n",
    "print(height)\n",
    "print(height.shape)\n",
    "\n",
    "print(weight)\n"
   ]
  },
  {
   "cell_type": "code",
   "execution_count": 5,
   "metadata": {},
   "outputs": [
    {
     "name": "stdout",
     "output_type": "stream",
     "text": [
      "198.25\n",
      "198.25\n",
      "199.0\n",
      "14.635146053251399\n",
      "14.635146053251399\n"
     ]
    }
   ],
   "source": [
    "# mean and median\n",
    "\n",
    "print(height.mean())\n",
    "print(np.mean(height))\n",
    "\n",
    "# print(height.median())    # NO MEDIAN ATTRIBUTE\n",
    "print(np.median(height))\n",
    "\n",
    "print(height.std())\n",
    "print(np.std(height))\n",
    "\n"
   ]
  },
  {
   "cell_type": "markdown",
   "metadata": {},
   "source": [
    "## Multiple logical test"
   ]
  },
  {
   "cell_type": "code",
   "execution_count": 7,
   "metadata": {},
   "outputs": [],
   "source": [
    "my_house = np.array([18.0, 20.0, 10.75, 9.50])\n",
    "your_house = np.array([14.0, 24.0, 14.25, 9.0])\n"
   ]
  },
  {
   "cell_type": "code",
   "execution_count": 9,
   "metadata": {},
   "outputs": [
    {
     "data": {
      "text/plain": [
       "array([False, False, False,  True])"
      ]
     },
     "execution_count": 9,
     "metadata": {},
     "output_type": "execute_result"
    }
   ],
   "source": [
    "np.logical_and(my_house<20, my_house<10)"
   ]
  },
  {
   "cell_type": "code",
   "execution_count": null,
   "metadata": {},
   "outputs": [],
   "source": []
  }
 ],
 "metadata": {
  "kernelspec": {
   "display_name": "Python 3.9.12 ('base')",
   "language": "python",
   "name": "python3"
  },
  "language_info": {
   "codemirror_mode": {
    "name": "ipython",
    "version": 3
   },
   "file_extension": ".py",
   "mimetype": "text/x-python",
   "name": "python",
   "nbconvert_exporter": "python",
   "pygments_lexer": "ipython3",
   "version": "3.9.12"
  },
  "orig_nbformat": 4,
  "vscode": {
   "interpreter": {
    "hash": "cd78fef2128015050713e82ca51c6520b11aee7c9ee8df750520bbbc7384cbaa"
   }
  }
 },
 "nbformat": 4,
 "nbformat_minor": 2
}
