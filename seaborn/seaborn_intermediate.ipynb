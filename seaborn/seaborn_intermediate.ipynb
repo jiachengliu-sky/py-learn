{
 "cells": [
  {
   "cell_type": "markdown",
   "id": "6371e978",
   "metadata": {},
   "source": [
    "## Initialize"
   ]
  },
  {
   "cell_type": "code",
   "execution_count": 8,
   "id": "f25ba9d9",
   "metadata": {},
   "outputs": [],
   "source": [
    "import matplotlib.pyplot as plt\n",
    "import seaborn as sns\n",
    "import pandas as pd"
   ]
  },
  {
   "cell_type": "markdown",
   "id": "11da44ad",
   "metadata": {},
   "source": [
    "## Plot"
   ]
  },
  {
   "cell_type": "markdown",
   "id": "229d878c",
   "metadata": {},
   "source": [
    "### sns.displot()\n",
    "\n",
    "Returns a histogram by default.\n",
    "\n",
    "*BEST FOR STARTING ANALYSIS*\n",
    "\n",
    "`kind = `:\n",
    "- `kde`\n",
    "- `rug`\n",
    "- `ecdf`"
   ]
  },
  {
   "cell_type": "code",
   "execution_count": 9,
   "id": "c113e239",
   "metadata": {},
   "outputs": [],
   "source": [
    "sns.displot?"
   ]
  },
  {
   "cell_type": "markdown",
   "id": "c4fed204",
   "metadata": {},
   "source": [
    "### sns.regplot()\n",
    "\n",
    "Returns a line graph"
   ]
  },
  {
   "cell_type": "code",
   "execution_count": 10,
   "id": "0e3b3a44",
   "metadata": {},
   "outputs": [],
   "source": [
    "sns.regplot?"
   ]
  },
  {
   "cell_type": "markdown",
   "id": "b56fb873",
   "metadata": {},
   "source": [
    "### sns.lmplot()\n",
    "\n",
    "Similar to regresional plot, good for linear relationship"
   ]
  },
  {
   "cell_type": "code",
   "execution_count": 11,
   "id": "4606740f",
   "metadata": {},
   "outputs": [],
   "source": [
    "sns.lmplot?"
   ]
  },
  {
   "cell_type": "markdown",
   "id": "c5f89d2a",
   "metadata": {},
   "source": [
    "## Styles"
   ]
  },
  {
   "cell_type": "markdown",
   "id": "e63393a7",
   "metadata": {},
   "source": [
    "### sns.palplot()\n",
    "\n",
    "palette plot\n",
    "\n",
    "`sns.palplt(sns.color_palette(color_system, number))`\n",
    "\n",
    "`color_system` can be:\n",
    "- Circular: different colors for non-sequential\n",
    "- Sequential: one color from light to dark; to emphasize sequence\n",
    "- diverging: two colors with dark color on both ends; to emphasize extremes\n",
    "\n",
    "`number` to indicate how many variants of color to use"
   ]
  },
  {
   "cell_type": "markdown",
   "id": "5e34ea6a",
   "metadata": {},
   "source": [
    "## PairGrid\n",
    "\n",
    "AxesSubplot is one-dimension\n",
    "\n",
    "FacetGrid and PairGrid are two-dimension"
   ]
  },
  {
   "cell_type": "code",
   "execution_count": null,
   "id": "d9e549ea",
   "metadata": {},
   "outputs": [],
   "source": [
    "# g = sns.PairGrid(df, vars=[])\n",
    "# g.map_diag(sns.histplot)\n",
    "# g.mao_offdiag(sns.scatterplot)"
   ]
  },
  {
   "cell_type": "code",
   "execution_count": null,
   "id": "2ea3c36d",
   "metadata": {},
   "outputs": [],
   "source": [
    "# sns.pairplot(df, vars=[], kind = 'reg', diag_kind = 'hist')"
   ]
  },
  {
   "cell_type": "code",
   "execution_count": null,
   "id": "f7691569",
   "metadata": {},
   "outputs": [],
   "source": [
    "# sns.pairplot(df, x_vars=[], y_vars=[], kind = 'reg', diag_kind = 'hist')"
   ]
  },
  {
   "cell_type": "code",
   "execution_count": null,
   "id": "30712d3b",
   "metadata": {},
   "outputs": [],
   "source": [
    "sns.pairplot?"
   ]
  },
  {
   "cell_type": "markdown",
   "id": "79902cf9",
   "metadata": {},
   "source": [
    "## JointGrid"
   ]
  },
  {
   "cell_type": "code",
   "execution_count": null,
   "id": "c9736aaa",
   "metadata": {},
   "outputs": [],
   "source": [
    "# g = sns.JointGrid(df, x= ,y=)\n",
    "# g.plot(sns.kdeplot, sns.scatter)\n",
    "\n",
    "\n",
    "# OR\n",
    "\n",
    "\n",
    "# g = sns.JointGrid(df, x= ,y=)\n",
    "\n",
    "# # Define joint plot\n",
    "# g.plot_joint(sns.kdeplot)\n",
    "\n",
    "# # Define marginal plot\n",
    "# g.plot_marginals(sns.kdeplot, shade = True)"
   ]
  },
  {
   "cell_type": "code",
   "execution_count": null,
   "id": "49dedecf",
   "metadata": {},
   "outputs": [],
   "source": [
    "# sns.jointplot(df, x, y, kind)\n",
    "\n",
    "# # can add more to joint plot\n",
    "# sns.jointplot(df, x, y, kind).plot_join(sns.kdeplot)"
   ]
  }
 ],
 "metadata": {
  "kernelspec": {
   "display_name": "Python 3 (ipykernel)",
   "language": "python",
   "name": "python3"
  },
  "language_info": {
   "codemirror_mode": {
    "name": "ipython",
    "version": 3
   },
   "file_extension": ".py",
   "mimetype": "text/x-python",
   "name": "python",
   "nbconvert_exporter": "python",
   "pygments_lexer": "ipython3",
   "version": "3.9.12"
  }
 },
 "nbformat": 4,
 "nbformat_minor": 5
}
