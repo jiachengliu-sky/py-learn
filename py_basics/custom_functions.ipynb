{
 "cells": [
  {
   "cell_type": "markdown",
   "id": "ec0aff8a",
   "metadata": {},
   "source": [
    "# Write Custom Functions"
   ]
  },
  {
   "cell_type": "markdown",
   "id": "26589ead",
   "metadata": {},
   "source": [
    "## Global vs. Local Scope\n",
    "\n",
    "Scope search order is based on \"LEGB\"\n",
    "- **L**ocal\n",
    "- **E**nclosing functions\n",
    "- **G**lobal\n",
    "- **B**uilt-in\n",
    "\n",
    "Local function cannot change the value of global variables. To access, modify variable in the global scope, use `global variable_name` or `nonlocal variable_name`\n"
   ]
  },
  {
   "cell_type": "code",
   "execution_count": 35,
   "id": "fc6d592a",
   "metadata": {},
   "outputs": [
    {
     "name": "stdout",
     "output_type": "stream",
     "text": [
      "3\n",
      "10\n",
      "6\n"
     ]
    }
   ],
   "source": [
    "num = 5\n",
    "\n",
    "def func1():\n",
    "\n",
    "# local scope is used first\n",
    "# if variable is not found, search for global\n",
    "    num = 3\n",
    "    print(num)\n",
    "\n",
    "def func2():\n",
    "\n",
    "# set a variable to global to access global variable directly\n",
    "# it allows modification of global variable locally\n",
    "    global num\n",
    "    double_num = num * 2\n",
    "    num = 6\n",
    "    print(double_num)\n",
    "\n",
    "# print 3, since the local num is used\n",
    "func1()\n",
    "\n",
    "# print 10, and modified num to 6\n",
    "func2()\n",
    "print(num)"
   ]
  },
  {
   "cell_type": "markdown",
   "id": "23fbde9c",
   "metadata": {},
   "source": [
    "## Default and Flexible Arguments\n",
    "\n"
   ]
  },
  {
   "cell_type": "code",
   "execution_count": 47,
   "id": "57b8df43",
   "metadata": {},
   "outputs": [
    {
     "name": "stdout",
     "output_type": "stream",
     "text": [
      "9\n",
      "27\n",
      "16\n",
      "25\n",
      "num1:36\n",
      "num2:49\n"
     ]
    }
   ],
   "source": [
    "# Set the default value of power to 2\n",
    "def pow(number, power=2):\n",
    "    print(number**power)\n",
    "\n",
    "# prints 9\n",
    "pow(3)\n",
    "\n",
    "# prints 27\n",
    "pow(3,3)\n",
    "\n",
    "def pow(power=2, *args, **kwargs):\n",
    "    for value in args:\n",
    "        print(value**power)\n",
    "    for key, value in kwargs.items():\n",
    "        print(key + \":\" + str(value**power))\n",
    "\n",
    "# First argument assign values to power\n",
    "# 4 and 5 are assigned to *args\n",
    "# num1=6 and num2=7 are assigned to **kwargs\n",
    "pow(2,4,5,num1=6, num2=7)"
   ]
  },
  {
   "cell_type": "markdown",
   "id": "4460259c",
   "metadata": {},
   "source": [
    "## Lambda\n",
    "\n"
   ]
  },
  {
   "cell_type": "code",
   "execution_count": 57,
   "id": "a867ff90",
   "metadata": {},
   "outputs": [
    {
     "name": "stdout",
     "output_type": "stream",
     "text": [
      "16\n"
     ]
    },
    {
     "data": {
      "text/plain": [
       "27"
      ]
     },
     "execution_count": 57,
     "metadata": {},
     "output_type": "execute_result"
    }
   ],
   "source": [
    "# Lambda functions returns the value\n",
    "pow = (lambda x,y=2: x**y)\n",
    "\n",
    "print(pow(4))\n",
    "pow(3,3)"
   ]
  },
  {
   "cell_type": "code",
   "execution_count": 60,
   "id": "6906aac4",
   "metadata": {},
   "outputs": [
    {
     "data": {
      "text/plain": [
       "6"
      ]
     },
     "execution_count": 60,
     "metadata": {},
     "output_type": "execute_result"
    }
   ],
   "source": [
    "# Lambda can take any number of variables\n",
    "\n",
    "func = (lambda x,y,z: x+y+z)\n",
    "func(1,2,3)"
   ]
  },
  {
   "cell_type": "code",
   "execution_count": 58,
   "id": "13d692b0",
   "metadata": {},
   "outputs": [
    {
     "data": {
      "text/plain": [
       "[4, 9, 16, 25]"
      ]
     },
     "execution_count": 58,
     "metadata": {},
     "output_type": "execute_result"
    }
   ],
   "source": [
    "# Combine map() with lambda to apply lambda function over all value of an iterable\n",
    "# map() returns a map object with the same length as the iterable, has to list it to show values\n",
    "\n",
    "list(map((lambda x,y=2: x**y),[2,3,4,5]))"
   ]
  },
  {
   "cell_type": "code",
   "execution_count": 1,
   "id": "da14cfa4",
   "metadata": {},
   "outputs": [
    {
     "data": {
      "text/plain": [
       "10"
      ]
     },
     "execution_count": 1,
     "metadata": {},
     "output_type": "execute_result"
    }
   ],
   "source": [
    "# Combine reduce() with lambda to iter over the iterables and apply lambda function on every n number of elements\n",
    "\n",
    "from functools import reduce\n",
    "reduce((lambda x, y: x+y), [1,2,3,4])"
   ]
  },
  {
   "cell_type": "code",
   "execution_count": 59,
   "id": "8b2fde5e",
   "metadata": {},
   "outputs": [
    {
     "data": {
      "text/plain": [
       "['samwise', 'aragorn', 'boromir', 'legolas', 'gandalf']"
      ]
     },
     "execution_count": 59,
     "metadata": {},
     "output_type": "execute_result"
    }
   ],
   "source": [
    "# Combine filter() with lambda to apply lambda function as a boolean test over all values of iterable\n",
    "# filter() returns a filter object with a length <= len(iterable)\n",
    "\n",
    "fellowship = ['frodo', 'samwise', 'merry', 'pippin', 'aragorn', 'boromir', 'legolas', 'gimli', 'gandalf']\n",
    "\n",
    "result = filter((lambda member: len(member)>6), fellowship)\n",
    "\n",
    "# only prints str with length larger than 6\n",
    "list(result)"
   ]
  },
  {
   "cell_type": "markdown",
   "id": "caa9c38f",
   "metadata": {},
   "source": [
    "## Exception Handling"
   ]
  },
  {
   "cell_type": "code",
   "execution_count": 75,
   "id": "b86544f6",
   "metadata": {},
   "outputs": [
    {
     "name": "stdout",
     "output_type": "stream",
     "text": [
      "9\n",
      "number must be a valid number\n"
     ]
    }
   ],
   "source": [
    "def pow(number, power=2):\n",
    "#     if any([not isinstance(number, int), not isinstance(power, int)]):\n",
    "#         raise ValueError('number and power must be valid integer')\n",
    "    try:\n",
    "        return number ** power\n",
    "    except TypeError:\n",
    "        print(\"number must be a valid number\")\n",
    "\n",
    "        \n",
    "print(pow(3))\n",
    "pow(\"da\")"
   ]
  }
 ],
 "metadata": {
  "kernelspec": {
   "display_name": "Python 3 (ipykernel)",
   "language": "python",
   "name": "python3"
  },
  "language_info": {
   "codemirror_mode": {
    "name": "ipython",
    "version": 3
   },
   "file_extension": ".py",
   "mimetype": "text/x-python",
   "name": "python",
   "nbconvert_exporter": "python",
   "pygments_lexer": "ipython3",
   "version": "3.9.12"
  }
 },
 "nbformat": 4,
 "nbformat_minor": 5
}
