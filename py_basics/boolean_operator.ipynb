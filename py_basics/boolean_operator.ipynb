{
 "cells": [
  {
   "cell_type": "markdown",
   "id": "570279e2-52d2-482f-9b6e-88c05a41ec15",
   "metadata": {},
   "source": [
    "`and`, `or` evaluates boolean conditions\n",
    "\n",
    "`&`, `|` evaluate bit-wise comparison"
   ]
  },
  {
   "cell_type": "code",
   "execution_count": 4,
   "id": "6c86c965-535f-476d-8512-44b94d551fef",
   "metadata": {},
   "outputs": [
    {
     "data": {
      "text/plain": [
       "3"
      ]
     },
     "execution_count": 4,
     "metadata": {},
     "output_type": "execute_result"
    }
   ],
   "source": [
    "# Returns 3: \n",
    "# 1 is convert to boolean object -> Non-zero -> True \n",
    "# 3 is convert to boolean object -> Non-zero -> True\n",
    "# Returns the last value\n",
    "1 and 3"
   ]
  },
  {
   "cell_type": "code",
   "execution_count": 6,
   "id": "0d9756e5-1201-42e7-bc47-777dcb0a4300",
   "metadata": {},
   "outputs": [
    {
     "data": {
      "text/plain": [
       "1"
      ]
     },
     "execution_count": 6,
     "metadata": {},
     "output_type": "execute_result"
    }
   ],
   "source": [
    "# Returns 1: \n",
    "# 1 is convert to boolean object -> Non-zero -> True \n",
    "# Lazy evaluation: For 'or', if there is at least one True, then the expression is True\n",
    "# Returns the first True value\n",
    "1 or 0"
   ]
  },
  {
   "cell_type": "code",
   "execution_count": 35,
   "id": "9a32d6fa-011d-4b93-a093-023dc3091585",
   "metadata": {},
   "outputs": [
    {
     "name": "stdout",
     "output_type": "stream",
     "text": [
      "0b1\n",
      "0b10\n",
      "0\n"
     ]
    }
   ],
   "source": [
    "# 1 in binary is 0001\n",
    "# 2 in binary is 0010\n",
    "# bit-wise comparison (0 and 0) (0 and 0) (0 and 1) (1 and 0) -> 0000 -> 0\n",
    "\n",
    "print(1 & 2)"
   ]
  },
  {
   "cell_type": "code",
   "execution_count": 36,
   "id": "f1ebfde5-a23e-466a-ae6c-fc5e2d873f52",
   "metadata": {},
   "outputs": [
    {
     "name": "stdout",
     "output_type": "stream",
     "text": [
      "8\n"
     ]
    }
   ],
   "source": [
    "# 9 in binary is 1001\n",
    "# 10 in binary is 1010\n",
    "# bit-wise comparison (1 and 1) (0 and 0) (0 and 1) (1 and 0) -> 1000 -> 8\n",
    "print(9&10)"
   ]
  },
  {
   "cell_type": "code",
   "execution_count": 38,
   "id": "cd3e37b0-0659-4888-8a78-cc9fbe2c700e",
   "metadata": {},
   "outputs": [
    {
     "name": "stdout",
     "output_type": "stream",
     "text": [
      "11\n"
     ]
    }
   ],
   "source": [
    "# 9 in binary is 1001\n",
    "# 10 in binary is 1010\n",
    "# bit-wise comparison (1 or 1) (0 or 0) (0 or 1) (1 or 0) -> 1011 -> 11\n",
    "print(9|10)"
   ]
  }
 ],
 "metadata": {
  "kernelspec": {
   "display_name": "Python 3 (ipykernel)",
   "language": "python",
   "name": "python3"
  },
  "language_info": {
   "codemirror_mode": {
    "name": "ipython",
    "version": 3
   },
   "file_extension": ".py",
   "mimetype": "text/x-python",
   "name": "python",
   "nbconvert_exporter": "python",
   "pygments_lexer": "ipython3",
   "version": "3.9.12"
  }
 },
 "nbformat": 4,
 "nbformat_minor": 5
}
