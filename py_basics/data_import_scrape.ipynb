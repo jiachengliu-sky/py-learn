{
 "cells": [
  {
   "cell_type": "markdown",
   "id": "0b95b2f1",
   "metadata": {},
   "source": [
    "# Data Import & Web Scrape\n"
   ]
  },
  {
   "cell_type": "markdown",
   "id": "2ddd1550",
   "metadata": {},
   "source": [
    "## Basics"
   ]
  },
  {
   "cell_type": "code",
   "execution_count": 10,
   "id": "946ebfb4",
   "metadata": {},
   "outputs": [
    {
     "data": {
      "text/plain": [
       "'country,Bronze,Gold,Silver\\nUnited States,67,137,52\\nGermany,67,47,43\\nGreat Britain,26,64,55\\nRussia,35,50,28\\nChina,35,44,30\\nFrance,21,20,55\\nAustralia,25,23,34\\nItaly,24,8,38\\nCanada,61,4,4\\nJapan,34,17,13\\n'"
      ]
     },
     "metadata": {},
     "output_type": "display_data"
    },
    {
     "data": {
      "text/plain": [
       "<_io.TextIOWrapper name='../dataset/medals.csv' mode='r' encoding='UTF-8'>"
      ]
     },
     "metadata": {},
     "output_type": "display_data"
    },
    {
     "data": {
      "text/plain": [
       "True"
      ]
     },
     "execution_count": 10,
     "metadata": {},
     "output_type": "execute_result"
    }
   ],
   "source": [
    "file = open('../dataset/medals.csv', 'r')\n",
    "display(file.read())\n",
    "display(file)\n",
    "file.close()\n",
    "file.closed"
   ]
  },
  {
   "cell_type": "code",
   "execution_count": 9,
   "id": "7c02a378",
   "metadata": {},
   "outputs": [
    {
     "data": {
      "text/plain": [
       "'country,Bronze,Gold,Silver\\n'"
      ]
     },
     "metadata": {},
     "output_type": "display_data"
    },
    {
     "data": {
      "text/plain": [
       "'United States,67,137,52\\n'"
      ]
     },
     "metadata": {},
     "output_type": "display_data"
    },
    {
     "data": {
      "text/plain": [
       "'Germany,67,47,43\\n'"
      ]
     },
     "metadata": {},
     "output_type": "display_data"
    },
    {
     "data": {
      "text/plain": [
       "<_io.TextIOWrapper name='../dataset/medals.csv' mode='r' encoding='UTF-8'>"
      ]
     },
     "metadata": {},
     "output_type": "display_data"
    },
    {
     "data": {
      "text/plain": [
       "True"
      ]
     },
     "execution_count": 9,
     "metadata": {},
     "output_type": "execute_result"
    }
   ],
   "source": [
    "# with is a context manager\n",
    "with open('../dataset/medals.csv', 'r') as file:\n",
    "    display(file.readline())\n",
    "    display(file.readline())\n",
    "    display(file.readline())\n",
    "\n",
    "display(file)\n",
    "    \n",
    "file.closed"
   ]
  },
  {
   "cell_type": "markdown",
   "id": "37d67ab7",
   "metadata": {},
   "source": [
    "## np.loadtxt()\n",
    "\n",
    "Can import multiple rows and cols, but numpy array can only take one datatype"
   ]
  },
  {
   "cell_type": "code",
   "execution_count": 18,
   "id": "8b624508",
   "metadata": {},
   "outputs": [],
   "source": [
    "import numpy as np\n",
    "\n",
    "filepath=''\n",
    "skip=0\n",
    "cols = []\n",
    "\n",
    "# delimiter can be '\\t', ' ', or ','\n",
    "try:\n",
    "    np.loadtxt(filepath, delimiter='', skiprows= skip, usecols=cols, dtype = str)\n",
    "except:\n",
    "    pass"
   ]
  },
  {
   "cell_type": "markdown",
   "id": "06a34012",
   "metadata": {},
   "source": [
    "## np.genfromtxt()\n",
    "\n",
    "Can import multiple datatypes into a 1D array"
   ]
  },
  {
   "cell_type": "code",
   "execution_count": 20,
   "id": "f8af53c6",
   "metadata": {},
   "outputs": [],
   "source": [
    "# names indicate whether has header row\n",
    "try:\n",
    "    np.genfromtxt(filepath, delimiter='', names=True, dtype=None)\n",
    "except:\n",
    "    pass"
   ]
  },
  {
   "cell_type": "markdown",
   "id": "d95f567f",
   "metadata": {},
   "source": [
    "## np.recfromcsv()\n",
    "\n",
    "Similar to genfromtxt() with default `dtype=None`"
   ]
  },
  {
   "cell_type": "code",
   "execution_count": 21,
   "id": "7f65841f",
   "metadata": {},
   "outputs": [],
   "source": [
    "try:\n",
    "    np.genfromtxt(filepath, delimiter='', names=True)\n",
    "except:\n",
    "    pass"
   ]
  },
  {
   "cell_type": "markdown",
   "id": "40406f9e",
   "metadata": {},
   "source": [
    "## pd.read_csv()"
   ]
  },
  {
   "cell_type": "code",
   "execution_count": 23,
   "id": "2d320360",
   "metadata": {},
   "outputs": [],
   "source": [
    "import pandas as pd\n",
    "\n",
    "# nrows defines how many rows to read from the file\n",
    "# header=None indicate no header row in the file\n",
    "# comment='#' indicate comment identifiers\n",
    "# na_values='NaN' indicate Null value identifiers\n",
    "try:\n",
    "    pd.read_csv(filepath, nrows=5, header=None, sep='', comment='#', na_values='NaN')\n",
    "except:\n",
    "    pass"
   ]
  },
  {
   "cell_type": "markdown",
   "id": "979b98be",
   "metadata": {},
   "source": [
    "## pd.ExcelFile()"
   ]
  },
  {
   "cell_type": "code",
   "execution_count": 28,
   "id": "2c0b3b41",
   "metadata": {},
   "outputs": [],
   "source": [
    "try:\n",
    "    xls = pd.ExcelFile(filepath)\n",
    "    display(xls.sheet_names)\n",
    "    \n",
    "    # parse by worksheet index\n",
    "    # usecols indicate which columns to be parsed\n",
    "    # names is a list of column names\n",
    "    df1 = xls.parse(0, usecols=[], skiprows=skip, names=[])\n",
    "    \n",
    "    #parse by worksheet name\n",
    "    df2 = xls.parse(sheet_name)\n",
    "except:\n",
    "    pass"
   ]
  },
  {
   "cell_type": "code",
   "execution_count": null,
   "id": "c75d77a5",
   "metadata": {},
   "outputs": [],
   "source": [
    "try:\n",
    "    # set sheet_name = None to read all worksheets\n",
    "    # this returns a dictionary of dataframes, where key is worksheet name\n",
    "    # value is worksheet content\n",
    "    xls = pd.read_excel(filepath, sheet_name = None)\n",
    "    "
   ]
  },
  {
   "cell_type": "markdown",
   "id": "1b9caa3c",
   "metadata": {},
   "source": [
    "## pickle"
   ]
  },
  {
   "cell_type": "code",
   "execution_count": 26,
   "id": "7dc21e3a",
   "metadata": {},
   "outputs": [],
   "source": [
    "import pickle\n",
    "\n",
    "try:\n",
    "    with open(filepath, 'rb') as file:\n",
    "        pickle.load(file)\n",
    "except:\n",
    "    pass"
   ]
  },
  {
   "cell_type": "markdown",
   "id": "a6214c02",
   "metadata": {},
   "source": [
    "## SAS & Stata"
   ]
  },
  {
   "cell_type": "code",
   "execution_count": 30,
   "id": "e0eb8ef5",
   "metadata": {},
   "outputs": [],
   "source": [
    "# from sas7bdat import SAS7BDAT\n",
    "\n",
    "try:\n",
    "    with SAS7BDAT(filepaht) as file:\n",
    "        df_sas = file.to_data_frame()\n",
    "except:\n",
    "    pass"
   ]
  },
  {
   "cell_type": "code",
   "execution_count": null,
   "id": "25466ee7",
   "metadata": {},
   "outputs": [],
   "source": [
    "try:\n",
    "    df_stata = pd.read_stata(filepath)\n",
    "except:\n",
    "    pass"
   ]
  },
  {
   "cell_type": "markdown",
   "id": "1178d3cc",
   "metadata": {},
   "source": [
    "## HDF5"
   ]
  },
  {
   "cell_type": "code",
   "execution_count": 32,
   "id": "8e9f628d",
   "metadata": {},
   "outputs": [],
   "source": [
    "import h5py\n",
    "\n",
    "try:\n",
    "    h5py_data = h5py.File(filepath, 'r')\n",
    "except:\n",
    "    pass"
   ]
  },
  {
   "cell_type": "markdown",
   "id": "f002f480",
   "metadata": {},
   "source": [
    "## MATLAB"
   ]
  },
  {
   "cell_type": "code",
   "execution_count": 34,
   "id": "03d78b37",
   "metadata": {},
   "outputs": [],
   "source": [
    "import scipy.io\n",
    "\n",
    "try:\n",
    "    mat = scipy.io.loadmat(filepath)\n",
    "except:\n",
    "    pass"
   ]
  },
  {
   "cell_type": "markdown",
   "id": "87e39ee3",
   "metadata": {},
   "source": [
    "## Relational Database\n"
   ]
  },
  {
   "cell_type": "code",
   "execution_count": 49,
   "id": "637a3ff7",
   "metadata": {},
   "outputs": [],
   "source": [
    "# Initialize\n",
    "\n",
    "from sqlalchemy import create_engine\n",
    "\n",
    "engine = create_engine('sqlite:///Northwind.sqlite')"
   ]
  },
  {
   "cell_type": "code",
   "execution_count": 47,
   "id": "c0503c6f",
   "metadata": {},
   "outputs": [],
   "source": [
    "# Method 1 with full steps\n",
    "try:\n",
    "    con = engine.connect()\n",
    "\n",
    "    rs = con.execute(\"SELECT * FROM Orders\")\n",
    "    df = pd.DataFrame(rs.fetchall())\n",
    "    df.columns = rs.keys()\n",
    "\n",
    "    con.close()\n",
    "except:\n",
    "    pass"
   ]
  },
  {
   "cell_type": "code",
   "execution_count": 48,
   "id": "e414d194",
   "metadata": {},
   "outputs": [],
   "source": [
    "# Method 2 with context manager\n",
    "try:\n",
    "    with engine.connect() as con:\n",
    "        rs = con.execute(\"SELECT * FROM Orders\")\n",
    "        df = pd.DataFrame(rs.fetchmany(size=5))\n",
    "        df.columns = rs.keys()\n",
    "\n",
    "except:\n",
    "    pass"
   ]
  },
  {
   "cell_type": "code",
   "execution_count": null,
   "id": "c1c57cd9",
   "metadata": {},
   "outputs": [],
   "source": [
    "# Method 3 using pd.read_sql_query(query, engine)\n",
    "\n",
    "try:\n",
    "    df = pd.read_sql_query(\"SELECT * FROM Orders\", engine)"
   ]
  },
  {
   "cell_type": "markdown",
   "id": "c5b0333d",
   "metadata": {},
   "source": [
    "## Data Scrape\n"
   ]
  },
  {
   "cell_type": "markdown",
   "id": "51237737",
   "metadata": {},
   "source": [
    "### Request"
   ]
  },
  {
   "cell_type": "code",
   "execution_count": 50,
   "id": "b96e25ce",
   "metadata": {},
   "outputs": [],
   "source": [
    "from urllib.request import urlretrieve\n",
    "\n",
    "url = ''\n",
    "filename = ''\n",
    "\n",
    "try:\n",
    "    urlretrieve(url, filename)\n",
    "    df = pd.read_csv(filename)\n",
    "except:\n",
    "    pass"
   ]
  },
  {
   "cell_type": "code",
   "execution_count": null,
   "id": "6343a98e",
   "metadata": {},
   "outputs": [],
   "source": [
    "from urllib.request import urlopen, Request\n",
    "\n",
    "url = ''\n",
    "\n",
    "try:\n",
    "    request = Request(url)\n",
    "    response = urlopen(request)\n",
    "    html = response.read()\n",
    "    response.close()\n",
    "except:\n",
    "    pass"
   ]
  },
  {
   "cell_type": "code",
   "execution_count": null,
   "id": "37a1f33e",
   "metadata": {},
   "outputs": [],
   "source": [
    "import requests\n",
    "\n",
    "url = ''\n",
    "\n",
    "try:\n",
    "    r = request.get(url)\n",
    "    text = r.text\n",
    "except:\n",
    "    pass"
   ]
  },
  {
   "cell_type": "code",
   "execution_count": null,
   "id": "c8b54e77",
   "metadata": {},
   "outputs": [],
   "source": [
    "from bs4 import BeautifulSoup\n",
    "import requests\n",
    "\n",
    "url = ''\n",
    "try:\n",
    "    r = requests.get(url)\n",
    "    html = r.text\n",
    "    \n",
    "    soup = BeautifulSoup(html)\n",
    "    pretty_soup = soup.prettify()\n",
    "    \n",
    "    print(soup.title)\n",
    "    print(soup.get_text())\n",
    "    \n",
    "except:\n",
    "    pass"
   ]
  },
  {
   "cell_type": "markdown",
   "id": "911eb352",
   "metadata": {},
   "source": [
    "### API & JSON\n"
   ]
  },
  {
   "cell_type": "code",
   "execution_count": null,
   "id": "8ff3228e",
   "metadata": {},
   "outputs": [],
   "source": [
    "import json\n",
    "\n",
    "try:\n",
    "    with open(filepath, 'r') as json_file:\n",
    "        # json.load() returns a dictionary object\n",
    "        json_data = json.load(json_file)"
   ]
  },
  {
   "cell_type": "code",
   "execution_count": 55,
   "id": "e2aa5d2f",
   "metadata": {},
   "outputs": [
    {
     "name": "stdout",
     "output_type": "stream",
     "text": [
      "dict_keys(['Title', 'Year', 'Rated', 'Released', 'Runtime', 'Genre', 'Director', 'Writer', 'Actors', 'Plot', 'Language', 'Country', 'Awards', 'Poster', 'Ratings', 'Metascore', 'imdbRating', 'imdbVotes', 'imdbID', 'Type', 'DVD', 'BoxOffice', 'Production', 'Website', 'Response'])\n"
     ]
    }
   ],
   "source": [
    "import requests\n",
    "\n",
    "http_prefix = 'http://'\n",
    "api = 'www.omdbapi.com'\n",
    "query = '?apikey=72bc447a&t=hackers'\n",
    "\n",
    "url = http_prefix+api+query\n",
    "\n",
    "try:\n",
    "    r = requests.get(url)\n",
    "    json_data = r.json()\n",
    "    print(json_data.keys())\n",
    "except:\n",
    "    pass\n"
   ]
  }
 ],
 "metadata": {
  "kernelspec": {
   "display_name": "Python 3 (ipykernel)",
   "language": "python",
   "name": "python3"
  },
  "language_info": {
   "codemirror_mode": {
    "name": "ipython",
    "version": 3
   },
   "file_extension": ".py",
   "mimetype": "text/x-python",
   "name": "python",
   "nbconvert_exporter": "python",
   "pygments_lexer": "ipython3",
   "version": "3.9.12"
  }
 },
 "nbformat": 4,
 "nbformat_minor": 5
}
