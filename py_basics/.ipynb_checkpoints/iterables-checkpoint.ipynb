{
 "cells": [
  {
   "cell_type": "markdown",
   "id": "73c7f0bf",
   "metadata": {},
   "source": [
    "## Iterables & Iterators\n",
    "\n",
    "Iterables are objects that can be looped over, examples are lists, tuples, sets, dictionaries, strings, ...\n",
    "\n",
    "A custom-defined iterables consists of `__iter__()` and `__next__()`\n",
    "\n",
    "Calling `a = iter(iterables)` and `next(a)` to attain values in iterabls"
   ]
  },
  {
   "cell_type": "markdown",
   "id": "088355fd",
   "metadata": {},
   "source": [
    "### Enumerate()\n",
    "\n",
    "Returns an enumerate object as an iterator of tupels `(index, value)`"
   ]
  },
  {
   "cell_type": "code",
   "execution_count": 71,
   "id": "71245013",
   "metadata": {},
   "outputs": [
    {
     "name": "stdout",
     "output_type": "stream",
     "text": [
      "(0, 1)\n",
      "(1, 2)\n",
      "(2, 3)\n",
      "[]\n"
     ]
    }
   ],
   "source": [
    "# start is optional, default to 0\n",
    "nums = [1,2,3]\n",
    "for i in enumerate(nums, start=0):\n",
    "    print(i)\n",
    "\n",
    "# enumerate is a one-time use container: once iterated through, the values are gone\n",
    "enums = enumerate(nums)\n",
    "for i in enums:\n",
    "    pass\n",
    "print(list(enums))\n",
    "# enumerate?"
   ]
  },
  {
   "cell_type": "markdown",
   "id": "b0c939c8",
   "metadata": {},
   "source": [
    "### zip()\n",
    "\n",
    "Returns an zip iterators that combines multiple iterables"
   ]
  },
  {
   "cell_type": "code",
   "execution_count": 72,
   "id": "66a77258",
   "metadata": {},
   "outputs": [
    {
     "name": "stdout",
     "output_type": "stream",
     "text": [
      "(1, 'a', True)\n",
      "(2, 'b', True)\n",
      "(3, 'c', True)\n"
     ]
    }
   ],
   "source": [
    "for i in zip([1,2,3],['a','b','c'],[True, True, True]):\n",
    "    print(i)\n",
    "\n",
    "# zip([1,2,3],['a','b','c'],[True, True, True])"
   ]
  },
  {
   "cell_type": "code",
   "execution_count": 80,
   "id": "b2cbee13",
   "metadata": {},
   "outputs": [
    {
     "data": {
      "text/plain": [
       "{1: 'a', 2: 'b', 3: 'c'}"
      ]
     },
     "execution_count": 80,
     "metadata": {},
     "output_type": "execute_result"
    }
   ],
   "source": [
    "# Used to create dictionary\n",
    "\n",
    "list1 = [1,2,3]\n",
    "list2 = ['a','b','c']\n",
    "zipped = zip(list1, list2)\n",
    "dict(zipped)"
   ]
  },
  {
   "cell_type": "markdown",
   "id": "a5261c78",
   "metadata": {},
   "source": [
    "## Iteration Application in Loading Dataset"
   ]
  },
  {
   "cell_type": "code",
   "execution_count": 82,
   "id": "5a0f40ce",
   "metadata": {},
   "outputs": [
    {
     "name": "stdout",
     "output_type": "stream",
     "text": [
      "         country  Bronze  Gold  Silver\n",
      "0  United States      67   137      52\n",
      "1        Germany      67    47      43\n",
      "2  Great Britain      26    64      55\n",
      "  country  Bronze  Gold  Silver\n",
      "3  Russia      35    50      28\n",
      "4   China      35    44      30\n",
      "5  France      21    20      55\n"
     ]
    }
   ],
   "source": [
    "import pandas as pd\n",
    "\n",
    "dfs = pd.read_csv('../dataset/medals.csv', chunksize=3)\n",
    "print(next(dfs))\n",
    "print(next(dfs))\n"
   ]
  },
  {
   "cell_type": "markdown",
   "id": "e0c3dfba",
   "metadata": {},
   "source": [
    "## List Comprehension"
   ]
  },
  {
   "cell_type": "code",
   "execution_count": 74,
   "id": "49452c31",
   "metadata": {},
   "outputs": [
    {
     "data": {
      "text/plain": [
       "[1, 4, 9, 16]"
      ]
     },
     "execution_count": 74,
     "metadata": {},
     "output_type": "execute_result"
    }
   ],
   "source": [
    "# ls = []\n",
    "# for num in [1,2,3,4]:\n",
    "#     ls.append(num**2)\n",
    "\n",
    "[num**2 for num in [1,2,3,4]]"
   ]
  },
  {
   "cell_type": "code",
   "execution_count": 75,
   "id": "0380dc4e",
   "metadata": {},
   "outputs": [
    {
     "data": {
      "text/plain": [
       "[1, 1, 1, 1, 2, 4, 8, 16, 3, 9, 27, 81, 4, 16, 64, 256]"
      ]
     },
     "execution_count": 75,
     "metadata": {},
     "output_type": "execute_result"
    }
   ],
   "source": [
    "# ls = []\n",
    "# for num in [1,2,3,4]:\n",
    "#     for power in [1,2,3,4]:\n",
    "#         ls.append(num**power)\n",
    "\n",
    "[num**power for num in [1,2,3,4] for power in [1,2,3,4]]"
   ]
  },
  {
   "cell_type": "code",
   "execution_count": 76,
   "id": "aa5c669a",
   "metadata": {},
   "outputs": [
    {
     "data": {
      "text/plain": [
       "[[1, 2, 3], [1, 2, 3], [1, 2, 3], [1, 2, 3], [1, 2, 3]]"
      ]
     },
     "execution_count": 76,
     "metadata": {},
     "output_type": "execute_result"
    }
   ],
   "source": [
    "[[1,2,3]]*5"
   ]
  },
  {
   "cell_type": "code",
   "execution_count": 77,
   "id": "9bb5bafc",
   "metadata": {},
   "outputs": [
    {
     "name": "stdout",
     "output_type": "stream",
     "text": [
      "[4, 5, 6]\n",
      "[4, 5, 6]\n",
      "[16, 25, 36]\n",
      "[16, 25, 36]\n",
      "[0, 0, 0, 16, 25, 36]\n"
     ]
    }
   ],
   "source": [
    "# list comprehension can be used to filter\n",
    "print(list(filter((lambda x: x>3), [1,2,3,4,5,6])))\n",
    "print([num for num in [1,2,3,4,5,6] if num>3])\n",
    "\n",
    "# but more powerful as it combines the map(filter())\n",
    "print(list(map((lambda x: x**2), filter((lambda x: x>3), [1,2,3,4,5,6]))))\n",
    "print([num**2 for num in [1,2,3,4,5,6] if num > 3 ])\n",
    "\n",
    "# list comprehension can includes if-else\n",
    "print([num**2 if num > 3 else 0 for num in [1,2,3,4,5,6]])"
   ]
  },
  {
   "cell_type": "markdown",
   "id": "b8d8aad6",
   "metadata": {},
   "source": [
    "## Generator\n",
    "\n",
    "Initialization is similar to list comprehension, using `()` instead of `[]`\n",
    "\n",
    "Comparing with list comprehension, generator object is not created until iteration, saving memory space"
   ]
  },
  {
   "cell_type": "markdown",
   "id": "f808a99e",
   "metadata": {},
   "source": [
    "### Generator Basics"
   ]
  },
  {
   "cell_type": "code",
   "execution_count": 78,
   "id": "083688d1",
   "metadata": {},
   "outputs": [
    {
     "name": "stdout",
     "output_type": "stream",
     "text": [
      "1\n",
      "4\n",
      "9\n",
      "16\n",
      "no more values to be iterated\n"
     ]
    }
   ],
   "source": [
    "# Similar to zip(), enumerate(), generator is one-time iterators\n",
    "\n",
    "a = (num**2 for num in [1,2,3,4])\n",
    "print(next(a))\n",
    "print(next(a))\n",
    "print(next(a))\n",
    "print(next(a))\n",
    "\n",
    "try:\n",
    "    print(next(a))\n",
    "except:\n",
    "    print('no more values to be iterated')"
   ]
  },
  {
   "cell_type": "markdown",
   "id": "2e66eaa7",
   "metadata": {},
   "source": [
    "### Generator Functions"
   ]
  },
  {
   "cell_type": "code",
   "execution_count": 79,
   "id": "f09dfd50",
   "metadata": {},
   "outputs": [
    {
     "name": "stdout",
     "output_type": "stream",
     "text": [
      "<generator object pow_generator at 0x7fa1a315a660>\n"
     ]
    },
    {
     "data": {
      "text/plain": [
       "[1, 4, 9]"
      ]
     },
     "execution_count": 79,
     "metadata": {},
     "output_type": "execute_result"
    }
   ],
   "source": [
    "def pow_generator(nums, power=2):\n",
    "    for num in nums:\n",
    "        yield num**power\n",
    "\n",
    "print(pow_generator([1,2,3]))\n",
    "\n",
    "list(pow_generator([1,2,3]))"
   ]
  }
 ],
 "metadata": {
  "kernelspec": {
   "display_name": "Python 3 (ipykernel)",
   "language": "python",
   "name": "python3"
  },
  "language_info": {
   "codemirror_mode": {
    "name": "ipython",
    "version": 3
   },
   "file_extension": ".py",
   "mimetype": "text/x-python",
   "name": "python",
   "nbconvert_exporter": "python",
   "pygments_lexer": "ipython3",
   "version": "3.9.12"
  }
 },
 "nbformat": 4,
 "nbformat_minor": 5
}
