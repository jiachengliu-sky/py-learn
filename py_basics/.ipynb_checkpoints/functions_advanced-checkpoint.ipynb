{
 "cells": [
  {
   "cell_type": "markdown",
   "id": "9722c00e",
   "metadata": {},
   "source": [
    "# Docstrings"
   ]
  },
  {
   "cell_type": "markdown",
   "id": "c27cc2c3",
   "metadata": {},
   "source": [
    "## Google Style\n",
    "\n",
    "```python\n",
    "def function(arg_1, arg_2=42):\n",
    "    \"\"\"Description of what the function does\n",
    "    \n",
    "    Args:\n",
    "        arg_1 (str): Description of arg_1\n",
    "        arg_2 (int, optional): Description of arg_2\n",
    "    \n",
    "    Returns:\n",
    "        bool: Description of return value\n",
    "        \n",
    "    Raises:\n",
    "        Include any error types that the function intentionally raises\n",
    "        \n",
    "    Notes:\n",
    "        ...\n",
    "    \"\"\"\n",
    "   \n",
    "\n",
    "```"
   ]
  },
  {
   "cell_type": "markdown",
   "id": "94474e1e",
   "metadata": {},
   "source": [
    "## Numpydoc\n",
    "\n",
    "```python\n",
    "def function(arg_1, arg_2=42):\n",
    "    \"\"\"\n",
    "    Description of what the function does\n",
    "    \n",
    "    Parameters\n",
    "    ----------\n",
    "    arg_1 : expected type of arg_1\n",
    "        Description of arg_1\n",
    "    arg_2 : int, optional\n",
    "        Default=42\n",
    "    \n",
    "    Returns\n",
    "    -------\n",
    "    bool\n",
    "        Description of return value\n",
    "        Use \"Yields\" if the function is a generator\n",
    "    \n",
    "    \"\"\"\n",
    "\n",
    "```"
   ]
  },
  {
   "cell_type": "markdown",
   "id": "c5049bbb",
   "metadata": {},
   "source": [
    "## Read Docstring of a Function\n",
    "\n",
    "```python\n",
    "function.__doc__\n",
    "\n",
    "# OR\n",
    "\n",
    "import inspect\n",
    "inspect.getdoc(function)\n",
    "\n",
    "```"
   ]
  },
  {
   "cell_type": "markdown",
   "id": "80935009",
   "metadata": {},
   "source": [
    "## Don't Repeat Yourself\n",
    "\n",
    "Try to use functions instead of writing repeateded, similar codes"
   ]
  },
  {
   "cell_type": "markdown",
   "id": "689b8d31",
   "metadata": {},
   "source": [
    "## Do One Thing\n",
    "\n",
    "Ideally, any function should only do one thing to improve readability and make it flexible for change"
   ]
  },
  {
   "cell_type": "markdown",
   "id": "fac68da0",
   "metadata": {},
   "source": [
    "## Mutable Object as Default is Dangerous\n",
    "\n",
    "Use a mutable object as a default argument is dangerous\n",
    "\n",
    "```python\n",
    "foo(ls = []):\n",
    "    ls.append(1)\n",
    "    return ls\n",
    "\n",
    "# 1st time calling foo() returns [1]\n",
    "# 2ed time calling foo() returns [1,1]\n",
    "\n",
    "# Rather it is better to use None\n",
    "foo_better(ls=None):\n",
    "    if ls is None:\n",
    "        ls = []\n",
    "    ls.append(1)\n",
    "    return ls\n",
    "\n",
    "```"
   ]
  },
  {
   "cell_type": "markdown",
   "id": "38263059",
   "metadata": {},
   "source": [
    "## Context Manager\n"
   ]
  },
  {
   "cell_type": "markdown",
   "id": "0c4123bd",
   "metadata": {},
   "source": [
    "### Custom context manager as a single-value generator\n",
    "\n",
    "```python\n",
    "@contextlib.contextmanager\n",
    "def database(url):\n",
    "    db = postgres.connect(url)\n",
    "    yield db\n",
    "    \n",
    "    db.disconnect()\n",
    "```\n",
    "\n",
    "Calling custom context manager\n",
    "```python\n",
    "with database(url) as db:\n",
    "    db.execute('SELECT * FROM id')\n",
    "```"
   ]
  },
  {
   "cell_type": "markdown",
   "id": "82814046",
   "metadata": {},
   "source": [
    "### Custom context manager as a empty generator\n",
    "\n",
    "```python\n",
    "@contextlib.contextmanager\n",
    "def timer():\n",
    "    start = time.time()\n",
    "    \n",
    "    # Send control back to the context block\n",
    "    yield \n",
    "    \n",
    "    end = time.time()\n",
    "    print(f'{end-start} seconds elapsed')\n",
    "```\n",
    "\n",
    "Calling custom context manager\n",
    "```python\n",
    "with timer():\n",
    "    time.sleep(0.5)\n",
    "```"
   ]
  },
  {
   "cell_type": "markdown",
   "id": "b00a2813",
   "metadata": {},
   "source": [
    "### Context Manager Patterns\n",
    "\n",
    "| | |\n",
    "|------|------|\n",
    "|Open|Close|\n",
    "|Lock|Release|\n",
    "|Change|Reset|\n",
    "|Enter|Exit|\n",
    "|Start|Stop|\n",
    "|Setup|Teardown|\n",
    "|Connect|Disconnect|\n",
    "\n"
   ]
  },
  {
   "cell_type": "markdown",
   "id": "0923b9de",
   "metadata": {},
   "source": [
    "### Context Manager Error Handling\n",
    "\n",
    "With the context manager on, file may not be closed if errors are not handled.\n",
    "\n",
    "```python\n",
    "def cm(path):\n",
    "    try:\n",
    "        file = open(path, 'r')\n",
    "        yield file\n",
    "    \n",
    "    finally:\n",
    "        file.close()\n",
    "\n",
    "```"
   ]
  },
  {
   "cell_type": "markdown",
   "id": "b5a09846",
   "metadata": {},
   "source": [
    "## Closure\n",
    "\n",
    "When a nested function is created, all `nonlocal` variables required for its opertaion are stored in `function.__closure__`\n",
    "\n",
    "```python\n",
    "def foo():\n",
    "    x = 25\n",
    "    \n",
    "    def boo():\n",
    "        print(x)\n",
    "    \n",
    "    return boo\n",
    "\n",
    "# calling func() would print 25 despite x=25 is seemingly invisble to boo()\n",
    "# calling func.__closure__ to show the closure cells\n",
    "func = foo()\n",
    "func()\n",
    "```"
   ]
  },
  {
   "cell_type": "markdown",
   "id": "a22578f7",
   "metadata": {},
   "source": [
    "## Decorators\n",
    "\n",
    "Decorators are wrapper functions that can modify inputs and outputs that are passed to wrapped functions, or even change the behavior of wrapped functions\n",
    "\n"
   ]
  },
  {
   "cell_type": "markdown",
   "id": "0e79a016",
   "metadata": {},
   "source": [
    "### Decorators WITHOUT Extra Arguments"
   ]
  },
  {
   "cell_type": "code",
   "execution_count": 14,
   "id": "092290ba",
   "metadata": {},
   "outputs": [
    {
     "name": "stdout",
     "output_type": "stream",
     "text": [
      "<function multiply at 0x7fd95053c820>\n"
     ]
    },
    {
     "data": {
      "text/plain": [
       "20"
      ]
     },
     "execution_count": 14,
     "metadata": {},
     "output_type": "execute_result"
    }
   ],
   "source": [
    "def double_args(func):\n",
    "    def wrapper(a,b):\n",
    "        return func(a*2, b*2)\n",
    "    \n",
    "    return wrapper\n",
    "\n",
    "def multiply(a,b):\n",
    "    return a*b\n",
    "\n",
    "new_multiply = double_args(multiply)\n",
    "print(new_multiply.__closure__[0].cell_contents)\n",
    "\n",
    "# returns 20 instead of 5\n",
    "new_multiply(1,5)\n"
   ]
  },
  {
   "cell_type": "code",
   "execution_count": 16,
   "id": "dace05e9",
   "metadata": {},
   "outputs": [
    {
     "data": {
      "text/plain": [
       "20"
      ]
     },
     "execution_count": 16,
     "metadata": {},
     "output_type": "execute_result"
    }
   ],
   "source": [
    "def double_args(func):\n",
    "    def wrapper(a,b):\n",
    "        return func(a*2, b*2)\n",
    "    \n",
    "    return wrapper\n",
    "\n",
    "@double_args\n",
    "def multiply(a,b):\n",
    "    return a*b\n",
    "\n",
    "multiply(1,5)"
   ]
  },
  {
   "cell_type": "markdown",
   "id": "58c4cd57",
   "metadata": {},
   "source": [
    "### Decorators WITH Extra Arguments - Decorator Factory"
   ]
  },
  {
   "cell_type": "code",
   "execution_count": 25,
   "id": "fc6bb58b",
   "metadata": {},
   "outputs": [
    {
     "name": "stdout",
     "output_type": "stream",
     "text": [
      "hello\n",
      "hello\n",
      "hello\n"
     ]
    }
   ],
   "source": [
    "def run_n_times(n):\n",
    "    def decorator(func):\n",
    "        \n",
    "        def wrapper(*args, **kwargs):\n",
    "            for i in range(n):\n",
    "                func(*args, **kwargs)\n",
    "            return\n",
    "        \n",
    "        return wrapper\n",
    "    \n",
    "    return decorator\n",
    "\n",
    "@run_n_times(3)\n",
    "def print_hello():\n",
    "    print('hello')\n",
    "\n",
    "print_hello()"
   ]
  },
  {
   "cell_type": "markdown",
   "id": "19892315",
   "metadata": {},
   "source": [
    "### Decorator Function Issues\n",
    "\n",
    "Since decorated functions are actually pointer to a decorator function, their __name__ and __doc__ are replaced by the decorator function.\n",
    "\n",
    "Use python `@wraps` decorator to decorate wrapper function to avoid such issue\n",
    "\n",
    "```python\n",
    "from functools import wraps\n",
    "\n",
    "def timer(func):\n",
    "    \n",
    "    @wraps(func)\n",
    "    def wrapper(*args, **kwargs):\n",
    "        start = time.time()\n",
    "        \n",
    "        result = func(*args, **kwargs)\n",
    "        \n",
    "        end = time.time()\n",
    "        \n",
    "        print(f'{end - start} seconds elapsed')\n",
    "        \n",
    "        return result\n",
    "    \n",
    "    return wrapper\n",
    "\n",
    "@timer\n",
    "def foo():\n",
    "    pass\n",
    "```\n",
    "\n",
    "Can always use foo.__wrapped__ to see original function"
   ]
  }
 ],
 "metadata": {
  "kernelspec": {
   "display_name": "Python 3 (ipykernel)",
   "language": "python",
   "name": "python3"
  },
  "language_info": {
   "codemirror_mode": {
    "name": "ipython",
    "version": 3
   },
   "file_extension": ".py",
   "mimetype": "text/x-python",
   "name": "python",
   "nbconvert_exporter": "python",
   "pygments_lexer": "ipython3",
   "version": "3.9.12"
  }
 },
 "nbformat": 4,
 "nbformat_minor": 5
}
